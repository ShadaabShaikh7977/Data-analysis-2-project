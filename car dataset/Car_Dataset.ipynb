{
  "nbformat": 4,
  "nbformat_minor": 0,
  "metadata": {
    "colab": {
      "provenance": [],
      "collapsed_sections": []
    },
    "kernelspec": {
      "name": "python3",
      "display_name": "Python 3"
    },
    "language_info": {
      "name": "python"
    }
  },
  "cells": [
    {
      "cell_type": "markdown",
      "source": [
        "# Basic Import "
      ],
      "metadata": {
        "id": "8BxoIU005R8a"
      }
    },
    {
      "cell_type": "code",
      "source": [
        "import pandas as pd \n",
        "import numpy as np \n",
        "import seaborn as sns \n",
        "import matplotlib.pyplot as plt \n",
        "%matplotlib inline \n",
        "plt.rcParams['figure.figsize'] = (18,9)"
      ],
      "metadata": {
        "id": "pLOrX4tX5XDC"
      },
      "execution_count": 2,
      "outputs": []
    },
    {
      "cell_type": "code",
      "source": [
        "df = pd.read_csv(\"/content/drive/MyDrive/CSV file /new-used-cars-dataset.csv\")"
      ],
      "metadata": {
        "id": "WpbiYflM5j02"
      },
      "execution_count": 3,
      "outputs": []
    },
    {
      "cell_type": "code",
      "source": [
        "df"
      ],
      "metadata": {
        "colab": {
          "base_uri": "https://localhost:8080/",
          "height": 424
        },
        "id": "7ZuUunuH6gEs",
        "outputId": "9e93c44e-2bf4-4fc7-c95b-615255cfc84f"
      },
      "execution_count": 4,
      "outputs": [
        {
          "output_type": "execute_result",
          "data": {
            "text/plain": [
              "                                 Car Names    Mileages  Ratings  \\\n",
              "0                  2019 Honda Accord Sport     Mileage      3.7   \n",
              "1     2015 Chevrolet Corvette Stingray Z51  29,192 mi.      3.7   \n",
              "2        2020 Jeep Grand Cherokee Overland  53,561 mi.      4.8   \n",
              "3               2019 Audi A7 3.0T Prestige  46,664 mi.      4.9   \n",
              "4             2017 Ford Mustang GT Premium  21,726 mi.      4.0   \n",
              "...                                    ...         ...      ...   \n",
              "9325                2019 Lexus IS 300 Base  61,106 mi.      4.7   \n",
              "9326                    2019 Kia Sorento L  11,132 mi.      4.8   \n",
              "9327                2017 GMC Acadia Denali  55,074 mi.      3.4   \n",
              "9328                2019 Honda Pilot Elite  57,150 mi.      4.9   \n",
              "9329                  2019 GMC Terrain SLT  56,293 mi.      4.8   \n",
              "\n",
              "              Reviews   used/certified         price drop    Price  \n",
              "0         (3 reviews)             Used    $501 price drop  $27,995  \n",
              "1         (3 reviews)             Used    $277 price drop  $52,000  \n",
              "2     (1,147 reviews)             Used  $2,000 price drop  $41,998  \n",
              "3     (1,831 reviews)             Used  $2,090 price drop  $62,750  \n",
              "4       (409 reviews)             Used    $200 price drop  $29,995  \n",
              "...               ...              ...                ...      ...  \n",
              "9325  (4,658 reviews)             Used  $2,770 price drop  $36,500  \n",
              "9326    (505 reviews)             Used    $200 price drop  $23,450  \n",
              "9327    (127 reviews)             Used  $2,065 price drop  $29,381  \n",
              "9328  (8,222 reviews)  Honda Certified  $2,007 price drop  $38,488  \n",
              "9329  (1,293 reviews)             Used    $561 price drop  $27,812  \n",
              "\n",
              "[9330 rows x 7 columns]"
            ],
            "text/html": [
              "\n",
              "  <div id=\"df-429db9d8-fa8d-455a-9cdd-2c3aa9cf6616\">\n",
              "    <div class=\"colab-df-container\">\n",
              "      <div>\n",
              "<style scoped>\n",
              "    .dataframe tbody tr th:only-of-type {\n",
              "        vertical-align: middle;\n",
              "    }\n",
              "\n",
              "    .dataframe tbody tr th {\n",
              "        vertical-align: top;\n",
              "    }\n",
              "\n",
              "    .dataframe thead th {\n",
              "        text-align: right;\n",
              "    }\n",
              "</style>\n",
              "<table border=\"1\" class=\"dataframe\">\n",
              "  <thead>\n",
              "    <tr style=\"text-align: right;\">\n",
              "      <th></th>\n",
              "      <th>Car Names</th>\n",
              "      <th>Mileages</th>\n",
              "      <th>Ratings</th>\n",
              "      <th>Reviews</th>\n",
              "      <th>used/certified</th>\n",
              "      <th>price drop</th>\n",
              "      <th>Price</th>\n",
              "    </tr>\n",
              "  </thead>\n",
              "  <tbody>\n",
              "    <tr>\n",
              "      <th>0</th>\n",
              "      <td>2019 Honda Accord Sport</td>\n",
              "      <td>Mileage</td>\n",
              "      <td>3.7</td>\n",
              "      <td>(3 reviews)</td>\n",
              "      <td>Used</td>\n",
              "      <td>$501 price drop</td>\n",
              "      <td>$27,995</td>\n",
              "    </tr>\n",
              "    <tr>\n",
              "      <th>1</th>\n",
              "      <td>2015 Chevrolet Corvette Stingray Z51</td>\n",
              "      <td>29,192 mi.</td>\n",
              "      <td>3.7</td>\n",
              "      <td>(3 reviews)</td>\n",
              "      <td>Used</td>\n",
              "      <td>$277 price drop</td>\n",
              "      <td>$52,000</td>\n",
              "    </tr>\n",
              "    <tr>\n",
              "      <th>2</th>\n",
              "      <td>2020 Jeep Grand Cherokee Overland</td>\n",
              "      <td>53,561 mi.</td>\n",
              "      <td>4.8</td>\n",
              "      <td>(1,147 reviews)</td>\n",
              "      <td>Used</td>\n",
              "      <td>$2,000 price drop</td>\n",
              "      <td>$41,998</td>\n",
              "    </tr>\n",
              "    <tr>\n",
              "      <th>3</th>\n",
              "      <td>2019 Audi A7 3.0T Prestige</td>\n",
              "      <td>46,664 mi.</td>\n",
              "      <td>4.9</td>\n",
              "      <td>(1,831 reviews)</td>\n",
              "      <td>Used</td>\n",
              "      <td>$2,090 price drop</td>\n",
              "      <td>$62,750</td>\n",
              "    </tr>\n",
              "    <tr>\n",
              "      <th>4</th>\n",
              "      <td>2017 Ford Mustang GT Premium</td>\n",
              "      <td>21,726 mi.</td>\n",
              "      <td>4.0</td>\n",
              "      <td>(409 reviews)</td>\n",
              "      <td>Used</td>\n",
              "      <td>$200 price drop</td>\n",
              "      <td>$29,995</td>\n",
              "    </tr>\n",
              "    <tr>\n",
              "      <th>...</th>\n",
              "      <td>...</td>\n",
              "      <td>...</td>\n",
              "      <td>...</td>\n",
              "      <td>...</td>\n",
              "      <td>...</td>\n",
              "      <td>...</td>\n",
              "      <td>...</td>\n",
              "    </tr>\n",
              "    <tr>\n",
              "      <th>9325</th>\n",
              "      <td>2019 Lexus IS 300 Base</td>\n",
              "      <td>61,106 mi.</td>\n",
              "      <td>4.7</td>\n",
              "      <td>(4,658 reviews)</td>\n",
              "      <td>Used</td>\n",
              "      <td>$2,770 price drop</td>\n",
              "      <td>$36,500</td>\n",
              "    </tr>\n",
              "    <tr>\n",
              "      <th>9326</th>\n",
              "      <td>2019 Kia Sorento L</td>\n",
              "      <td>11,132 mi.</td>\n",
              "      <td>4.8</td>\n",
              "      <td>(505 reviews)</td>\n",
              "      <td>Used</td>\n",
              "      <td>$200 price drop</td>\n",
              "      <td>$23,450</td>\n",
              "    </tr>\n",
              "    <tr>\n",
              "      <th>9327</th>\n",
              "      <td>2017 GMC Acadia Denali</td>\n",
              "      <td>55,074 mi.</td>\n",
              "      <td>3.4</td>\n",
              "      <td>(127 reviews)</td>\n",
              "      <td>Used</td>\n",
              "      <td>$2,065 price drop</td>\n",
              "      <td>$29,381</td>\n",
              "    </tr>\n",
              "    <tr>\n",
              "      <th>9328</th>\n",
              "      <td>2019 Honda Pilot Elite</td>\n",
              "      <td>57,150 mi.</td>\n",
              "      <td>4.9</td>\n",
              "      <td>(8,222 reviews)</td>\n",
              "      <td>Honda Certified</td>\n",
              "      <td>$2,007 price drop</td>\n",
              "      <td>$38,488</td>\n",
              "    </tr>\n",
              "    <tr>\n",
              "      <th>9329</th>\n",
              "      <td>2019 GMC Terrain SLT</td>\n",
              "      <td>56,293 mi.</td>\n",
              "      <td>4.8</td>\n",
              "      <td>(1,293 reviews)</td>\n",
              "      <td>Used</td>\n",
              "      <td>$561 price drop</td>\n",
              "      <td>$27,812</td>\n",
              "    </tr>\n",
              "  </tbody>\n",
              "</table>\n",
              "<p>9330 rows × 7 columns</p>\n",
              "</div>\n",
              "      <button class=\"colab-df-convert\" onclick=\"convertToInteractive('df-429db9d8-fa8d-455a-9cdd-2c3aa9cf6616')\"\n",
              "              title=\"Convert this dataframe to an interactive table.\"\n",
              "              style=\"display:none;\">\n",
              "        \n",
              "  <svg xmlns=\"http://www.w3.org/2000/svg\" height=\"24px\"viewBox=\"0 0 24 24\"\n",
              "       width=\"24px\">\n",
              "    <path d=\"M0 0h24v24H0V0z\" fill=\"none\"/>\n",
              "    <path d=\"M18.56 5.44l.94 2.06.94-2.06 2.06-.94-2.06-.94-.94-2.06-.94 2.06-2.06.94zm-11 1L8.5 8.5l.94-2.06 2.06-.94-2.06-.94L8.5 2.5l-.94 2.06-2.06.94zm10 10l.94 2.06.94-2.06 2.06-.94-2.06-.94-.94-2.06-.94 2.06-2.06.94z\"/><path d=\"M17.41 7.96l-1.37-1.37c-.4-.4-.92-.59-1.43-.59-.52 0-1.04.2-1.43.59L10.3 9.45l-7.72 7.72c-.78.78-.78 2.05 0 2.83L4 21.41c.39.39.9.59 1.41.59.51 0 1.02-.2 1.41-.59l7.78-7.78 2.81-2.81c.8-.78.8-2.07 0-2.86zM5.41 20L4 18.59l7.72-7.72 1.47 1.35L5.41 20z\"/>\n",
              "  </svg>\n",
              "      </button>\n",
              "      \n",
              "  <style>\n",
              "    .colab-df-container {\n",
              "      display:flex;\n",
              "      flex-wrap:wrap;\n",
              "      gap: 12px;\n",
              "    }\n",
              "\n",
              "    .colab-df-convert {\n",
              "      background-color: #E8F0FE;\n",
              "      border: none;\n",
              "      border-radius: 50%;\n",
              "      cursor: pointer;\n",
              "      display: none;\n",
              "      fill: #1967D2;\n",
              "      height: 32px;\n",
              "      padding: 0 0 0 0;\n",
              "      width: 32px;\n",
              "    }\n",
              "\n",
              "    .colab-df-convert:hover {\n",
              "      background-color: #E2EBFA;\n",
              "      box-shadow: 0px 1px 2px rgba(60, 64, 67, 0.3), 0px 1px 3px 1px rgba(60, 64, 67, 0.15);\n",
              "      fill: #174EA6;\n",
              "    }\n",
              "\n",
              "    [theme=dark] .colab-df-convert {\n",
              "      background-color: #3B4455;\n",
              "      fill: #D2E3FC;\n",
              "    }\n",
              "\n",
              "    [theme=dark] .colab-df-convert:hover {\n",
              "      background-color: #434B5C;\n",
              "      box-shadow: 0px 1px 3px 1px rgba(0, 0, 0, 0.15);\n",
              "      filter: drop-shadow(0px 1px 2px rgba(0, 0, 0, 0.3));\n",
              "      fill: #FFFFFF;\n",
              "    }\n",
              "  </style>\n",
              "\n",
              "      <script>\n",
              "        const buttonEl =\n",
              "          document.querySelector('#df-429db9d8-fa8d-455a-9cdd-2c3aa9cf6616 button.colab-df-convert');\n",
              "        buttonEl.style.display =\n",
              "          google.colab.kernel.accessAllowed ? 'block' : 'none';\n",
              "\n",
              "        async function convertToInteractive(key) {\n",
              "          const element = document.querySelector('#df-429db9d8-fa8d-455a-9cdd-2c3aa9cf6616');\n",
              "          const dataTable =\n",
              "            await google.colab.kernel.invokeFunction('convertToInteractive',\n",
              "                                                     [key], {});\n",
              "          if (!dataTable) return;\n",
              "\n",
              "          const docLinkHtml = 'Like what you see? Visit the ' +\n",
              "            '<a target=\"_blank\" href=https://colab.research.google.com/notebooks/data_table.ipynb>data table notebook</a>'\n",
              "            + ' to learn more about interactive tables.';\n",
              "          element.innerHTML = '';\n",
              "          dataTable['output_type'] = 'display_data';\n",
              "          await google.colab.output.renderOutput(dataTable, element);\n",
              "          const docLink = document.createElement('div');\n",
              "          docLink.innerHTML = docLinkHtml;\n",
              "          element.appendChild(docLink);\n",
              "        }\n",
              "      </script>\n",
              "    </div>\n",
              "  </div>\n",
              "  "
            ]
          },
          "metadata": {},
          "execution_count": 4
        }
      ]
    },
    {
      "cell_type": "markdown",
      "source": [
        "# Table Content \n",
        "## 1. Basic EDA\n",
        "  * Data Columns\n",
        "  * Data info\n",
        "  * Data Cleaning \n",
        "  * Replacing value with empty string \n",
        "  * Converted numeric  value in into int \n",
        "  * Check null values in Data Frame \n",
        "\n",
        "## 2. Data Wragling \n",
        "  * Average Milage \n",
        "  * Minimum and Maximum price of average's Milage car \n",
        "  * Spliting Model car and Model car year\n",
        "\n",
        "## 3. Pie Chart\n",
        "  * Top 5 car model year \n",
        "  * Top 3 certificates in our data  \n",
        "  * Top 10 certificates without \"used\" certificates \n",
        "\n",
        "## 4. Bar plot \n",
        "  * Rating on the bases of used certificates \n",
        "  * Rating on the bases of Honda certificates \n",
        "  * Rating on the bases of BMW certificates\n",
        "  * Rating on the bases of Mercedes certificates\n",
        "  * Rating on the bases of Ford certificates\n",
        "\n",
        "\n",
        "\n",
        "\n",
        "\n",
        "\n",
        "\n",
        "\n",
        "\n",
        "\n"
      ],
      "metadata": {
        "id": "fdxMBgYiuFTZ"
      }
    },
    {
      "cell_type": "code",
      "source": [
        "df.columns"
      ],
      "metadata": {
        "colab": {
          "base_uri": "https://localhost:8080/"
        },
        "id": "zS-wKku26h8V",
        "outputId": "e6a2e914-c3a5-40a2-c1fa-4b9d356d4433"
      },
      "execution_count": 5,
      "outputs": [
        {
          "output_type": "execute_result",
          "data": {
            "text/plain": [
              "Index(['Car Names', 'Mileages', 'Ratings', 'Reviews', 'used/certified',\n",
              "       'price drop', 'Price'],\n",
              "      dtype='object')"
            ]
          },
          "metadata": {},
          "execution_count": 5
        }
      ]
    },
    {
      "cell_type": "code",
      "source": [
        "df.head(1).T"
      ],
      "metadata": {
        "colab": {
          "base_uri": "https://localhost:8080/",
          "height": 269
        },
        "id": "fxjvqyQk6nTj",
        "outputId": "0bbf0806-55f3-42b1-a0af-4c648e13e39c"
      },
      "execution_count": 6,
      "outputs": [
        {
          "output_type": "execute_result",
          "data": {
            "text/plain": [
              "                                      0\n",
              "Car Names       2019 Honda Accord Sport\n",
              "Mileages                        Mileage\n",
              "Ratings                             3.7\n",
              "Reviews                     (3 reviews)\n",
              "used/certified                     Used\n",
              "price drop              $501 price drop\n",
              "Price                           $27,995"
            ],
            "text/html": [
              "\n",
              "  <div id=\"df-3d710194-8b3f-4e6a-b727-699a1cc22fc4\">\n",
              "    <div class=\"colab-df-container\">\n",
              "      <div>\n",
              "<style scoped>\n",
              "    .dataframe tbody tr th:only-of-type {\n",
              "        vertical-align: middle;\n",
              "    }\n",
              "\n",
              "    .dataframe tbody tr th {\n",
              "        vertical-align: top;\n",
              "    }\n",
              "\n",
              "    .dataframe thead th {\n",
              "        text-align: right;\n",
              "    }\n",
              "</style>\n",
              "<table border=\"1\" class=\"dataframe\">\n",
              "  <thead>\n",
              "    <tr style=\"text-align: right;\">\n",
              "      <th></th>\n",
              "      <th>0</th>\n",
              "    </tr>\n",
              "  </thead>\n",
              "  <tbody>\n",
              "    <tr>\n",
              "      <th>Car Names</th>\n",
              "      <td>2019 Honda Accord Sport</td>\n",
              "    </tr>\n",
              "    <tr>\n",
              "      <th>Mileages</th>\n",
              "      <td>Mileage</td>\n",
              "    </tr>\n",
              "    <tr>\n",
              "      <th>Ratings</th>\n",
              "      <td>3.7</td>\n",
              "    </tr>\n",
              "    <tr>\n",
              "      <th>Reviews</th>\n",
              "      <td>(3 reviews)</td>\n",
              "    </tr>\n",
              "    <tr>\n",
              "      <th>used/certified</th>\n",
              "      <td>Used</td>\n",
              "    </tr>\n",
              "    <tr>\n",
              "      <th>price drop</th>\n",
              "      <td>$501 price drop</td>\n",
              "    </tr>\n",
              "    <tr>\n",
              "      <th>Price</th>\n",
              "      <td>$27,995</td>\n",
              "    </tr>\n",
              "  </tbody>\n",
              "</table>\n",
              "</div>\n",
              "      <button class=\"colab-df-convert\" onclick=\"convertToInteractive('df-3d710194-8b3f-4e6a-b727-699a1cc22fc4')\"\n",
              "              title=\"Convert this dataframe to an interactive table.\"\n",
              "              style=\"display:none;\">\n",
              "        \n",
              "  <svg xmlns=\"http://www.w3.org/2000/svg\" height=\"24px\"viewBox=\"0 0 24 24\"\n",
              "       width=\"24px\">\n",
              "    <path d=\"M0 0h24v24H0V0z\" fill=\"none\"/>\n",
              "    <path d=\"M18.56 5.44l.94 2.06.94-2.06 2.06-.94-2.06-.94-.94-2.06-.94 2.06-2.06.94zm-11 1L8.5 8.5l.94-2.06 2.06-.94-2.06-.94L8.5 2.5l-.94 2.06-2.06.94zm10 10l.94 2.06.94-2.06 2.06-.94-2.06-.94-.94-2.06-.94 2.06-2.06.94z\"/><path d=\"M17.41 7.96l-1.37-1.37c-.4-.4-.92-.59-1.43-.59-.52 0-1.04.2-1.43.59L10.3 9.45l-7.72 7.72c-.78.78-.78 2.05 0 2.83L4 21.41c.39.39.9.59 1.41.59.51 0 1.02-.2 1.41-.59l7.78-7.78 2.81-2.81c.8-.78.8-2.07 0-2.86zM5.41 20L4 18.59l7.72-7.72 1.47 1.35L5.41 20z\"/>\n",
              "  </svg>\n",
              "      </button>\n",
              "      \n",
              "  <style>\n",
              "    .colab-df-container {\n",
              "      display:flex;\n",
              "      flex-wrap:wrap;\n",
              "      gap: 12px;\n",
              "    }\n",
              "\n",
              "    .colab-df-convert {\n",
              "      background-color: #E8F0FE;\n",
              "      border: none;\n",
              "      border-radius: 50%;\n",
              "      cursor: pointer;\n",
              "      display: none;\n",
              "      fill: #1967D2;\n",
              "      height: 32px;\n",
              "      padding: 0 0 0 0;\n",
              "      width: 32px;\n",
              "    }\n",
              "\n",
              "    .colab-df-convert:hover {\n",
              "      background-color: #E2EBFA;\n",
              "      box-shadow: 0px 1px 2px rgba(60, 64, 67, 0.3), 0px 1px 3px 1px rgba(60, 64, 67, 0.15);\n",
              "      fill: #174EA6;\n",
              "    }\n",
              "\n",
              "    [theme=dark] .colab-df-convert {\n",
              "      background-color: #3B4455;\n",
              "      fill: #D2E3FC;\n",
              "    }\n",
              "\n",
              "    [theme=dark] .colab-df-convert:hover {\n",
              "      background-color: #434B5C;\n",
              "      box-shadow: 0px 1px 3px 1px rgba(0, 0, 0, 0.15);\n",
              "      filter: drop-shadow(0px 1px 2px rgba(0, 0, 0, 0.3));\n",
              "      fill: #FFFFFF;\n",
              "    }\n",
              "  </style>\n",
              "\n",
              "      <script>\n",
              "        const buttonEl =\n",
              "          document.querySelector('#df-3d710194-8b3f-4e6a-b727-699a1cc22fc4 button.colab-df-convert');\n",
              "        buttonEl.style.display =\n",
              "          google.colab.kernel.accessAllowed ? 'block' : 'none';\n",
              "\n",
              "        async function convertToInteractive(key) {\n",
              "          const element = document.querySelector('#df-3d710194-8b3f-4e6a-b727-699a1cc22fc4');\n",
              "          const dataTable =\n",
              "            await google.colab.kernel.invokeFunction('convertToInteractive',\n",
              "                                                     [key], {});\n",
              "          if (!dataTable) return;\n",
              "\n",
              "          const docLinkHtml = 'Like what you see? Visit the ' +\n",
              "            '<a target=\"_blank\" href=https://colab.research.google.com/notebooks/data_table.ipynb>data table notebook</a>'\n",
              "            + ' to learn more about interactive tables.';\n",
              "          element.innerHTML = '';\n",
              "          dataTable['output_type'] = 'display_data';\n",
              "          await google.colab.output.renderOutput(dataTable, element);\n",
              "          const docLink = document.createElement('div');\n",
              "          docLink.innerHTML = docLinkHtml;\n",
              "          element.appendChild(docLink);\n",
              "        }\n",
              "      </script>\n",
              "    </div>\n",
              "  </div>\n",
              "  "
            ]
          },
          "metadata": {},
          "execution_count": 6
        }
      ]
    },
    {
      "cell_type": "markdown",
      "source": [
        "# **Data Cleaning**\n"
      ],
      "metadata": {
        "id": "2eUUcgeh7g62"
      }
    },
    {
      "cell_type": "code",
      "source": [
        "df.info()"
      ],
      "metadata": {
        "colab": {
          "base_uri": "https://localhost:8080/"
        },
        "id": "6qi0r0lP6zBb",
        "outputId": "94ec4859-3ca4-4bc9-ae8b-52460e1b2436"
      },
      "execution_count": 7,
      "outputs": [
        {
          "output_type": "stream",
          "name": "stdout",
          "text": [
            "<class 'pandas.core.frame.DataFrame'>\n",
            "RangeIndex: 9330 entries, 0 to 9329\n",
            "Data columns (total 7 columns):\n",
            " #   Column          Non-Null Count  Dtype  \n",
            "---  ------          --------------  -----  \n",
            " 0   Car Names       9330 non-null   object \n",
            " 1   Mileages        9330 non-null   object \n",
            " 2   Ratings         9330 non-null   float64\n",
            " 3   Reviews         9330 non-null   object \n",
            " 4   used/certified  9330 non-null   object \n",
            " 5   price drop      9330 non-null   object \n",
            " 6   Price           9330 non-null   object \n",
            "dtypes: float64(1), object(6)\n",
            "memory usage: 510.4+ KB\n"
          ]
        }
      ]
    },
    {
      "cell_type": "markdown",
      "source": [
        "### Converted string object into integer so that we can analyze it properly "
      ],
      "metadata": {
        "id": "JNAy-SEGDpEP"
      }
    },
    {
      "cell_type": "markdown",
      "source": [
        "## We try to clean data according as we can see the value that should in int or float are in string so first we will replace the string value according depend upon the columns \n",
        "## However, we are not able to change the value which words or bracket so first we will replace that value with empty string"
      ],
      "metadata": {
        "id": "EQN_GCDykIdX"
      }
    },
    {
      "cell_type": "markdown",
      "source": [
        "## Mileages contain 3 values \n",
        "## 1. mi.\n",
        "## 2. Milage which will converted into 0\n",
        "## 3. \",\" Comma is the third value  "
      ],
      "metadata": {
        "id": "Ox_Oif1Hkgmy"
      }
    },
    {
      "cell_type": "code",
      "source": [
        "df['Mileages'] = df['Mileages'].str.replace('mi.', ' ')\n",
        "df['Mileages'] = df['Mileages'].str.replace('Mileage', '0')\n",
        "df['Mileages'] = df['Mileages'].str.replace(',','')\n",
        "df['Reviews'] = df['Reviews'].str.replace(',','')"
      ],
      "metadata": {
        "colab": {
          "base_uri": "https://localhost:8080/"
        },
        "id": "scBnnECxf4oT",
        "outputId": "27bcbdc7-505d-4812-a97c-121d4f082b58"
      },
      "execution_count": 8,
      "outputs": [
        {
          "output_type": "stream",
          "name": "stderr",
          "text": [
            "/usr/local/lib/python3.7/dist-packages/ipykernel_launcher.py:1: FutureWarning: The default value of regex will change from True to False in a future version.\n",
            "  \"\"\"Entry point for launching an IPython kernel.\n"
          ]
        }
      ]
    },
    {
      "cell_type": "markdown",
      "source": [
        "## Review \n",
        "## 1. Review contain reviews and review we will replace it empty string \n",
        "## 2. We have bracket in Reviews columns and we want to treat it indiviual "
      ],
      "metadata": {
        "id": "8kUPaQUkpkdi"
      }
    },
    {
      "cell_type": "code",
      "source": [
        "df['Reviews'] = df['Reviews'].str.replace('reviews',' ')\n",
        "df['Reviews'] = df['Reviews'].str.replace('review',' ')\n",
        "df['Reviews'] = df['Reviews'].str.replace('(','')\n",
        "df['Reviews'] = df['Reviews'].str.replace(')','')"
      ],
      "metadata": {
        "colab": {
          "base_uri": "https://localhost:8080/"
        },
        "id": "JDpe7JQvgK9-",
        "outputId": "420681b8-aa6f-4d09-b087-67e6d3cf0289"
      },
      "execution_count": 9,
      "outputs": [
        {
          "output_type": "stream",
          "name": "stderr",
          "text": [
            "/usr/local/lib/python3.7/dist-packages/ipykernel_launcher.py:3: FutureWarning: The default value of regex will change from True to False in a future version. In addition, single character regular expressions will *not* be treated as literal strings when regex=True.\n",
            "  This is separate from the ipykernel package so we can avoid doing imports until\n",
            "/usr/local/lib/python3.7/dist-packages/ipykernel_launcher.py:4: FutureWarning: The default value of regex will change from True to False in a future version. In addition, single character regular expressions will *not* be treated as literal strings when regex=True.\n",
            "  after removing the cwd from sys.path.\n"
          ]
        }
      ]
    },
    {
      "cell_type": "markdown",
      "source": [
        "## Price Drop \n",
        "##  Replace $ , price drop and , sign in price drop column with empty string  "
      ],
      "metadata": {
        "id": "-HNAke6ywz-k"
      }
    },
    {
      "cell_type": "code",
      "source": [
        "df['price drop'] = df['price drop'].str.replace('$',' ')\n",
        "df['price drop'] = df['price drop'].str.replace('price drop',' ')\n",
        "df['price drop'] = df['price drop'].str.replace(',','')"
      ],
      "metadata": {
        "colab": {
          "base_uri": "https://localhost:8080/"
        },
        "id": "fbXz69ByqZcQ",
        "outputId": "cb5ae64e-f924-48ce-f489-5797d379472d"
      },
      "execution_count": 10,
      "outputs": [
        {
          "output_type": "stream",
          "name": "stderr",
          "text": [
            "/usr/local/lib/python3.7/dist-packages/ipykernel_launcher.py:1: FutureWarning: The default value of regex will change from True to False in a future version. In addition, single character regular expressions will *not* be treated as literal strings when regex=True.\n",
            "  \"\"\"Entry point for launching an IPython kernel.\n"
          ]
        }
      ]
    },
    {
      "cell_type": "markdown",
      "source": [
        "## Price \n",
        "## 1. Replace Notd value with 0 in Price column\n",
        "## 2. Replace price,$ and , with empty string  "
      ],
      "metadata": {
        "id": "auaXUG_Fv3t0"
      }
    },
    {
      "cell_type": "code",
      "source": [
        "df['Price'] = df['Price'].str.replace('Not  d','0')\n",
        "df['Price'] = df['Price'].str.replace('Not  d','0')\n",
        "df['Price'] = df['Price'].str.replace('Price',' ')\n",
        "df['Price'] = df['Price'].str.replace('$',' ')\n",
        "df['Price'] = df['Price'].str.replace(',','')"
      ],
      "metadata": {
        "id": "Uzs-ubm58ERy",
        "colab": {
          "base_uri": "https://localhost:8080/"
        },
        "outputId": "33bebd05-bf54-4326-a818-357721c4d52a"
      },
      "execution_count": 14,
      "outputs": [
        {
          "output_type": "stream",
          "name": "stderr",
          "text": [
            "/usr/local/lib/python3.7/dist-packages/ipykernel_launcher.py:4: FutureWarning: The default value of regex will change from True to False in a future version. In addition, single character regular expressions will *not* be treated as literal strings when regex=True.\n",
            "  after removing the cwd from sys.path.\n"
          ]
        }
      ]
    },
    {
      "cell_type": "code",
      "source": [
        "df"
      ],
      "metadata": {
        "colab": {
          "base_uri": "https://localhost:8080/",
          "height": 424
        },
        "id": "6ygLarwH8iGp",
        "outputId": "a8f666c5-534a-444f-e493-e93281b47d69"
      },
      "execution_count": 15,
      "outputs": [
        {
          "output_type": "execute_result",
          "data": {
            "text/plain": [
              "                                 Car Names  Mileages  Ratings  Reviews  \\\n",
              "0                  2019 Honda Accord Sport         0      3.7        3   \n",
              "1     2015 Chevrolet Corvette Stingray Z51     29192      3.7        3   \n",
              "2        2020 Jeep Grand Cherokee Overland     53561      4.8     1147   \n",
              "3               2019 Audi A7 3.0T Prestige     46664      4.9     1831   \n",
              "4             2017 Ford Mustang GT Premium     21726      4.0      409   \n",
              "...                                    ...       ...      ...      ...   \n",
              "9325                2019 Lexus IS 300 Base     61106      4.7     4658   \n",
              "9326                    2019 Kia Sorento L     11132      4.8      505   \n",
              "9327                2017 GMC Acadia Denali     55074      3.4      127   \n",
              "9328                2019 Honda Pilot Elite     57150      4.9     8222   \n",
              "9329                  2019 GMC Terrain SLT     56293      4.8     1293   \n",
              "\n",
              "       used/certified  price drop   Price  \n",
              "0                Used         501   27995  \n",
              "1                Used         277   52000  \n",
              "2                Used        2000   41998  \n",
              "3                Used        2090   62750  \n",
              "4                Used         200   29995  \n",
              "...               ...         ...     ...  \n",
              "9325             Used        2770   36500  \n",
              "9326             Used         200   23450  \n",
              "9327             Used        2065   29381  \n",
              "9328  Honda Certified        2007   38488  \n",
              "9329             Used         561   27812  \n",
              "\n",
              "[9330 rows x 7 columns]"
            ],
            "text/html": [
              "\n",
              "  <div id=\"df-28ad84f1-d839-4c51-9715-60e6746c9f7a\">\n",
              "    <div class=\"colab-df-container\">\n",
              "      <div>\n",
              "<style scoped>\n",
              "    .dataframe tbody tr th:only-of-type {\n",
              "        vertical-align: middle;\n",
              "    }\n",
              "\n",
              "    .dataframe tbody tr th {\n",
              "        vertical-align: top;\n",
              "    }\n",
              "\n",
              "    .dataframe thead th {\n",
              "        text-align: right;\n",
              "    }\n",
              "</style>\n",
              "<table border=\"1\" class=\"dataframe\">\n",
              "  <thead>\n",
              "    <tr style=\"text-align: right;\">\n",
              "      <th></th>\n",
              "      <th>Car Names</th>\n",
              "      <th>Mileages</th>\n",
              "      <th>Ratings</th>\n",
              "      <th>Reviews</th>\n",
              "      <th>used/certified</th>\n",
              "      <th>price drop</th>\n",
              "      <th>Price</th>\n",
              "    </tr>\n",
              "  </thead>\n",
              "  <tbody>\n",
              "    <tr>\n",
              "      <th>0</th>\n",
              "      <td>2019 Honda Accord Sport</td>\n",
              "      <td>0</td>\n",
              "      <td>3.7</td>\n",
              "      <td>3</td>\n",
              "      <td>Used</td>\n",
              "      <td>501</td>\n",
              "      <td>27995</td>\n",
              "    </tr>\n",
              "    <tr>\n",
              "      <th>1</th>\n",
              "      <td>2015 Chevrolet Corvette Stingray Z51</td>\n",
              "      <td>29192</td>\n",
              "      <td>3.7</td>\n",
              "      <td>3</td>\n",
              "      <td>Used</td>\n",
              "      <td>277</td>\n",
              "      <td>52000</td>\n",
              "    </tr>\n",
              "    <tr>\n",
              "      <th>2</th>\n",
              "      <td>2020 Jeep Grand Cherokee Overland</td>\n",
              "      <td>53561</td>\n",
              "      <td>4.8</td>\n",
              "      <td>1147</td>\n",
              "      <td>Used</td>\n",
              "      <td>2000</td>\n",
              "      <td>41998</td>\n",
              "    </tr>\n",
              "    <tr>\n",
              "      <th>3</th>\n",
              "      <td>2019 Audi A7 3.0T Prestige</td>\n",
              "      <td>46664</td>\n",
              "      <td>4.9</td>\n",
              "      <td>1831</td>\n",
              "      <td>Used</td>\n",
              "      <td>2090</td>\n",
              "      <td>62750</td>\n",
              "    </tr>\n",
              "    <tr>\n",
              "      <th>4</th>\n",
              "      <td>2017 Ford Mustang GT Premium</td>\n",
              "      <td>21726</td>\n",
              "      <td>4.0</td>\n",
              "      <td>409</td>\n",
              "      <td>Used</td>\n",
              "      <td>200</td>\n",
              "      <td>29995</td>\n",
              "    </tr>\n",
              "    <tr>\n",
              "      <th>...</th>\n",
              "      <td>...</td>\n",
              "      <td>...</td>\n",
              "      <td>...</td>\n",
              "      <td>...</td>\n",
              "      <td>...</td>\n",
              "      <td>...</td>\n",
              "      <td>...</td>\n",
              "    </tr>\n",
              "    <tr>\n",
              "      <th>9325</th>\n",
              "      <td>2019 Lexus IS 300 Base</td>\n",
              "      <td>61106</td>\n",
              "      <td>4.7</td>\n",
              "      <td>4658</td>\n",
              "      <td>Used</td>\n",
              "      <td>2770</td>\n",
              "      <td>36500</td>\n",
              "    </tr>\n",
              "    <tr>\n",
              "      <th>9326</th>\n",
              "      <td>2019 Kia Sorento L</td>\n",
              "      <td>11132</td>\n",
              "      <td>4.8</td>\n",
              "      <td>505</td>\n",
              "      <td>Used</td>\n",
              "      <td>200</td>\n",
              "      <td>23450</td>\n",
              "    </tr>\n",
              "    <tr>\n",
              "      <th>9327</th>\n",
              "      <td>2017 GMC Acadia Denali</td>\n",
              "      <td>55074</td>\n",
              "      <td>3.4</td>\n",
              "      <td>127</td>\n",
              "      <td>Used</td>\n",
              "      <td>2065</td>\n",
              "      <td>29381</td>\n",
              "    </tr>\n",
              "    <tr>\n",
              "      <th>9328</th>\n",
              "      <td>2019 Honda Pilot Elite</td>\n",
              "      <td>57150</td>\n",
              "      <td>4.9</td>\n",
              "      <td>8222</td>\n",
              "      <td>Honda Certified</td>\n",
              "      <td>2007</td>\n",
              "      <td>38488</td>\n",
              "    </tr>\n",
              "    <tr>\n",
              "      <th>9329</th>\n",
              "      <td>2019 GMC Terrain SLT</td>\n",
              "      <td>56293</td>\n",
              "      <td>4.8</td>\n",
              "      <td>1293</td>\n",
              "      <td>Used</td>\n",
              "      <td>561</td>\n",
              "      <td>27812</td>\n",
              "    </tr>\n",
              "  </tbody>\n",
              "</table>\n",
              "<p>9330 rows × 7 columns</p>\n",
              "</div>\n",
              "      <button class=\"colab-df-convert\" onclick=\"convertToInteractive('df-28ad84f1-d839-4c51-9715-60e6746c9f7a')\"\n",
              "              title=\"Convert this dataframe to an interactive table.\"\n",
              "              style=\"display:none;\">\n",
              "        \n",
              "  <svg xmlns=\"http://www.w3.org/2000/svg\" height=\"24px\"viewBox=\"0 0 24 24\"\n",
              "       width=\"24px\">\n",
              "    <path d=\"M0 0h24v24H0V0z\" fill=\"none\"/>\n",
              "    <path d=\"M18.56 5.44l.94 2.06.94-2.06 2.06-.94-2.06-.94-.94-2.06-.94 2.06-2.06.94zm-11 1L8.5 8.5l.94-2.06 2.06-.94-2.06-.94L8.5 2.5l-.94 2.06-2.06.94zm10 10l.94 2.06.94-2.06 2.06-.94-2.06-.94-.94-2.06-.94 2.06-2.06.94z\"/><path d=\"M17.41 7.96l-1.37-1.37c-.4-.4-.92-.59-1.43-.59-.52 0-1.04.2-1.43.59L10.3 9.45l-7.72 7.72c-.78.78-.78 2.05 0 2.83L4 21.41c.39.39.9.59 1.41.59.51 0 1.02-.2 1.41-.59l7.78-7.78 2.81-2.81c.8-.78.8-2.07 0-2.86zM5.41 20L4 18.59l7.72-7.72 1.47 1.35L5.41 20z\"/>\n",
              "  </svg>\n",
              "      </button>\n",
              "      \n",
              "  <style>\n",
              "    .colab-df-container {\n",
              "      display:flex;\n",
              "      flex-wrap:wrap;\n",
              "      gap: 12px;\n",
              "    }\n",
              "\n",
              "    .colab-df-convert {\n",
              "      background-color: #E8F0FE;\n",
              "      border: none;\n",
              "      border-radius: 50%;\n",
              "      cursor: pointer;\n",
              "      display: none;\n",
              "      fill: #1967D2;\n",
              "      height: 32px;\n",
              "      padding: 0 0 0 0;\n",
              "      width: 32px;\n",
              "    }\n",
              "\n",
              "    .colab-df-convert:hover {\n",
              "      background-color: #E2EBFA;\n",
              "      box-shadow: 0px 1px 2px rgba(60, 64, 67, 0.3), 0px 1px 3px 1px rgba(60, 64, 67, 0.15);\n",
              "      fill: #174EA6;\n",
              "    }\n",
              "\n",
              "    [theme=dark] .colab-df-convert {\n",
              "      background-color: #3B4455;\n",
              "      fill: #D2E3FC;\n",
              "    }\n",
              "\n",
              "    [theme=dark] .colab-df-convert:hover {\n",
              "      background-color: #434B5C;\n",
              "      box-shadow: 0px 1px 3px 1px rgba(0, 0, 0, 0.15);\n",
              "      filter: drop-shadow(0px 1px 2px rgba(0, 0, 0, 0.3));\n",
              "      fill: #FFFFFF;\n",
              "    }\n",
              "  </style>\n",
              "\n",
              "      <script>\n",
              "        const buttonEl =\n",
              "          document.querySelector('#df-28ad84f1-d839-4c51-9715-60e6746c9f7a button.colab-df-convert');\n",
              "        buttonEl.style.display =\n",
              "          google.colab.kernel.accessAllowed ? 'block' : 'none';\n",
              "\n",
              "        async function convertToInteractive(key) {\n",
              "          const element = document.querySelector('#df-28ad84f1-d839-4c51-9715-60e6746c9f7a');\n",
              "          const dataTable =\n",
              "            await google.colab.kernel.invokeFunction('convertToInteractive',\n",
              "                                                     [key], {});\n",
              "          if (!dataTable) return;\n",
              "\n",
              "          const docLinkHtml = 'Like what you see? Visit the ' +\n",
              "            '<a target=\"_blank\" href=https://colab.research.google.com/notebooks/data_table.ipynb>data table notebook</a>'\n",
              "            + ' to learn more about interactive tables.';\n",
              "          element.innerHTML = '';\n",
              "          dataTable['output_type'] = 'display_data';\n",
              "          await google.colab.output.renderOutput(dataTable, element);\n",
              "          const docLink = document.createElement('div');\n",
              "          docLink.innerHTML = docLinkHtml;\n",
              "          element.appendChild(docLink);\n",
              "        }\n",
              "      </script>\n",
              "    </div>\n",
              "  </div>\n",
              "  "
            ]
          },
          "metadata": {},
          "execution_count": 15
        }
      ]
    },
    {
      "cell_type": "markdown",
      "source": [
        "# Coverting numeric value into int \n",
        "##  Mileage, Review , price drop, price are string value \n",
        "##  We need to change all string value into int value so that our machine learning model will understand in better "
      ],
      "metadata": {
        "id": "xJ7ps7IUyNpJ"
      }
    },
    {
      "cell_type": "code",
      "source": [
        "df['Mileages'] = df['Mileages'].astype(int)\n",
        "df['Reviews'] = df['Reviews'].astype(int)\n",
        "df['price drop'] = df['price drop'].astype(int)\n",
        "df['Price'] = df['Price'].astype(int)"
      ],
      "metadata": {
        "id": "X2brUaQP8jeI"
      },
      "execution_count": 16,
      "outputs": []
    },
    {
      "cell_type": "code",
      "source": [
        "df.info()"
      ],
      "metadata": {
        "colab": {
          "base_uri": "https://localhost:8080/"
        },
        "id": "PV2nKFCB_0TG",
        "outputId": "4ba37f9d-7ea6-4bd4-d081-2c9d72a00cfe"
      },
      "execution_count": 17,
      "outputs": [
        {
          "output_type": "stream",
          "name": "stdout",
          "text": [
            "<class 'pandas.core.frame.DataFrame'>\n",
            "RangeIndex: 9330 entries, 0 to 9329\n",
            "Data columns (total 7 columns):\n",
            " #   Column          Non-Null Count  Dtype  \n",
            "---  ------          --------------  -----  \n",
            " 0   Car Names       9330 non-null   object \n",
            " 1   Mileages        9330 non-null   int64  \n",
            " 2   Ratings         9330 non-null   float64\n",
            " 3   Reviews         9330 non-null   int64  \n",
            " 4   used/certified  9330 non-null   object \n",
            " 5   price drop      9330 non-null   int64  \n",
            " 6   Price           9330 non-null   int64  \n",
            "dtypes: float64(1), int64(4), object(2)\n",
            "memory usage: 510.4+ KB\n"
          ]
        }
      ]
    },
    {
      "cell_type": "markdown",
      "source": [
        "## Check null values in DataFrame "
      ],
      "metadata": {
        "id": "E-srIvYt3FW4"
      }
    },
    {
      "cell_type": "code",
      "source": [
        "df.isnull().sum()"
      ],
      "metadata": {
        "colab": {
          "base_uri": "https://localhost:8080/"
        },
        "id": "BxsVUj2PCyCh",
        "outputId": "d978d2f2-35ab-48e8-b84f-10651dd6076f"
      },
      "execution_count": 18,
      "outputs": [
        {
          "output_type": "execute_result",
          "data": {
            "text/plain": [
              "Car Names         0\n",
              "Mileages          0\n",
              "Ratings           0\n",
              "Reviews           0\n",
              "used/certified    0\n",
              "price drop        0\n",
              "Price             0\n",
              "dtype: int64"
            ]
          },
          "metadata": {},
          "execution_count": 18
        }
      ]
    },
    {
      "cell_type": "code",
      "source": [
        "df.columns "
      ],
      "metadata": {
        "colab": {
          "base_uri": "https://localhost:8080/"
        },
        "id": "JwTeBC5CD-fO",
        "outputId": "a5c751f3-e602-4439-a955-18be7334ced0"
      },
      "execution_count": 19,
      "outputs": [
        {
          "output_type": "execute_result",
          "data": {
            "text/plain": [
              "Index(['Car Names', 'Mileages', 'Ratings', 'Reviews', 'used/certified',\n",
              "       'price drop', 'Price'],\n",
              "      dtype='object')"
            ]
          },
          "metadata": {},
          "execution_count": 19
        }
      ]
    },
    {
      "cell_type": "markdown",
      "source": [
        "### Find the mean value of the Mileages columns and try to ackowledges that how many vehecels are providing average mileage"
      ],
      "metadata": {
        "id": "Y3E3DkPQ4Czn"
      }
    },
    {
      "cell_type": "code",
      "source": [
        "df.Mileages.mean()"
      ],
      "metadata": {
        "colab": {
          "base_uri": "https://localhost:8080/"
        },
        "id": "LcEaZr_3EkBM",
        "outputId": "7290683c-32fd-4460-90d1-f0fc8c747e69"
      },
      "execution_count": 20,
      "outputs": [
        {
          "output_type": "execute_result",
          "data": {
            "text/plain": [
              "36526.07877813505"
            ]
          },
          "metadata": {},
          "execution_count": 20
        }
      ]
    },
    {
      "cell_type": "markdown",
      "source": [
        "### As per the data,The average value of Milage is around 36526\n",
        "### we will try to look at the value which are giving avarage value "
      ],
      "metadata": {
        "id": "yRqawZRN4gsq"
      }
    },
    {
      "cell_type": "code",
      "source": [
        "df.columns "
      ],
      "metadata": {
        "colab": {
          "base_uri": "https://localhost:8080/"
        },
        "id": "GFn-lVFQZGZs",
        "outputId": "4bbc5bc8-3cd1-4347-a952-fd5a7b2b2edf"
      },
      "execution_count": 21,
      "outputs": [
        {
          "output_type": "execute_result",
          "data": {
            "text/plain": [
              "Index(['Car Names', 'Mileages', 'Ratings', 'Reviews', 'used/certified',\n",
              "       'price drop', 'Price'],\n",
              "      dtype='object')"
            ]
          },
          "metadata": {},
          "execution_count": 21
        }
      ]
    },
    {
      "cell_type": "code",
      "source": [
        "mileages = df[['Car Names','Mileages','Price','Ratings',\n",
        "               'Reviews','used/certified']].loc[(df['Mileages'] >= 3000) & (df['Mileages'] <=  4000)]\n",
        "mileages"
      ],
      "metadata": {
        "id": "QQXq84cRFVfN",
        "colab": {
          "base_uri": "https://localhost:8080/",
          "height": 206
        },
        "outputId": "2375824a-c24f-47f5-96da-88048fffce76"
      },
      "execution_count": 22,
      "outputs": [
        {
          "output_type": "execute_result",
          "data": {
            "text/plain": [
              "                            Car Names  Mileages  Price  Ratings  Reviews  \\\n",
              "1227  2021 Mercedes-Benz CLA 250 Base      3400  49035      4.8     1700   \n",
              "1392          2019 INFINITI QX60 Luxe      3457  36998      4.1       56   \n",
              "2346    2019 Chevrolet Blazer Premier      3489  39990      4.7      746   \n",
              "3716       2017 Buick Enclave Leather      3364  28998      4.6      648   \n",
              "4302                2007 BMW X3 3.0si      3857   6895      4.9     2064   \n",
              "\n",
              "               used/certified  \n",
              "1227  Mercedes-Benz Certified  \n",
              "1392                     Used  \n",
              "2346      Chevrolet Certified  \n",
              "3716                     Used  \n",
              "4302                     Used  "
            ],
            "text/html": [
              "\n",
              "  <div id=\"df-25f4eaa8-7871-4a10-a662-0a26b0787b21\">\n",
              "    <div class=\"colab-df-container\">\n",
              "      <div>\n",
              "<style scoped>\n",
              "    .dataframe tbody tr th:only-of-type {\n",
              "        vertical-align: middle;\n",
              "    }\n",
              "\n",
              "    .dataframe tbody tr th {\n",
              "        vertical-align: top;\n",
              "    }\n",
              "\n",
              "    .dataframe thead th {\n",
              "        text-align: right;\n",
              "    }\n",
              "</style>\n",
              "<table border=\"1\" class=\"dataframe\">\n",
              "  <thead>\n",
              "    <tr style=\"text-align: right;\">\n",
              "      <th></th>\n",
              "      <th>Car Names</th>\n",
              "      <th>Mileages</th>\n",
              "      <th>Price</th>\n",
              "      <th>Ratings</th>\n",
              "      <th>Reviews</th>\n",
              "      <th>used/certified</th>\n",
              "    </tr>\n",
              "  </thead>\n",
              "  <tbody>\n",
              "    <tr>\n",
              "      <th>1227</th>\n",
              "      <td>2021 Mercedes-Benz CLA 250 Base</td>\n",
              "      <td>3400</td>\n",
              "      <td>49035</td>\n",
              "      <td>4.8</td>\n",
              "      <td>1700</td>\n",
              "      <td>Mercedes-Benz Certified</td>\n",
              "    </tr>\n",
              "    <tr>\n",
              "      <th>1392</th>\n",
              "      <td>2019 INFINITI QX60 Luxe</td>\n",
              "      <td>3457</td>\n",
              "      <td>36998</td>\n",
              "      <td>4.1</td>\n",
              "      <td>56</td>\n",
              "      <td>Used</td>\n",
              "    </tr>\n",
              "    <tr>\n",
              "      <th>2346</th>\n",
              "      <td>2019 Chevrolet Blazer Premier</td>\n",
              "      <td>3489</td>\n",
              "      <td>39990</td>\n",
              "      <td>4.7</td>\n",
              "      <td>746</td>\n",
              "      <td>Chevrolet Certified</td>\n",
              "    </tr>\n",
              "    <tr>\n",
              "      <th>3716</th>\n",
              "      <td>2017 Buick Enclave Leather</td>\n",
              "      <td>3364</td>\n",
              "      <td>28998</td>\n",
              "      <td>4.6</td>\n",
              "      <td>648</td>\n",
              "      <td>Used</td>\n",
              "    </tr>\n",
              "    <tr>\n",
              "      <th>4302</th>\n",
              "      <td>2007 BMW X3 3.0si</td>\n",
              "      <td>3857</td>\n",
              "      <td>6895</td>\n",
              "      <td>4.9</td>\n",
              "      <td>2064</td>\n",
              "      <td>Used</td>\n",
              "    </tr>\n",
              "  </tbody>\n",
              "</table>\n",
              "</div>\n",
              "      <button class=\"colab-df-convert\" onclick=\"convertToInteractive('df-25f4eaa8-7871-4a10-a662-0a26b0787b21')\"\n",
              "              title=\"Convert this dataframe to an interactive table.\"\n",
              "              style=\"display:none;\">\n",
              "        \n",
              "  <svg xmlns=\"http://www.w3.org/2000/svg\" height=\"24px\"viewBox=\"0 0 24 24\"\n",
              "       width=\"24px\">\n",
              "    <path d=\"M0 0h24v24H0V0z\" fill=\"none\"/>\n",
              "    <path d=\"M18.56 5.44l.94 2.06.94-2.06 2.06-.94-2.06-.94-.94-2.06-.94 2.06-2.06.94zm-11 1L8.5 8.5l.94-2.06 2.06-.94-2.06-.94L8.5 2.5l-.94 2.06-2.06.94zm10 10l.94 2.06.94-2.06 2.06-.94-2.06-.94-.94-2.06-.94 2.06-2.06.94z\"/><path d=\"M17.41 7.96l-1.37-1.37c-.4-.4-.92-.59-1.43-.59-.52 0-1.04.2-1.43.59L10.3 9.45l-7.72 7.72c-.78.78-.78 2.05 0 2.83L4 21.41c.39.39.9.59 1.41.59.51 0 1.02-.2 1.41-.59l7.78-7.78 2.81-2.81c.8-.78.8-2.07 0-2.86zM5.41 20L4 18.59l7.72-7.72 1.47 1.35L5.41 20z\"/>\n",
              "  </svg>\n",
              "      </button>\n",
              "      \n",
              "  <style>\n",
              "    .colab-df-container {\n",
              "      display:flex;\n",
              "      flex-wrap:wrap;\n",
              "      gap: 12px;\n",
              "    }\n",
              "\n",
              "    .colab-df-convert {\n",
              "      background-color: #E8F0FE;\n",
              "      border: none;\n",
              "      border-radius: 50%;\n",
              "      cursor: pointer;\n",
              "      display: none;\n",
              "      fill: #1967D2;\n",
              "      height: 32px;\n",
              "      padding: 0 0 0 0;\n",
              "      width: 32px;\n",
              "    }\n",
              "\n",
              "    .colab-df-convert:hover {\n",
              "      background-color: #E2EBFA;\n",
              "      box-shadow: 0px 1px 2px rgba(60, 64, 67, 0.3), 0px 1px 3px 1px rgba(60, 64, 67, 0.15);\n",
              "      fill: #174EA6;\n",
              "    }\n",
              "\n",
              "    [theme=dark] .colab-df-convert {\n",
              "      background-color: #3B4455;\n",
              "      fill: #D2E3FC;\n",
              "    }\n",
              "\n",
              "    [theme=dark] .colab-df-convert:hover {\n",
              "      background-color: #434B5C;\n",
              "      box-shadow: 0px 1px 3px 1px rgba(0, 0, 0, 0.15);\n",
              "      filter: drop-shadow(0px 1px 2px rgba(0, 0, 0, 0.3));\n",
              "      fill: #FFFFFF;\n",
              "    }\n",
              "  </style>\n",
              "\n",
              "      <script>\n",
              "        const buttonEl =\n",
              "          document.querySelector('#df-25f4eaa8-7871-4a10-a662-0a26b0787b21 button.colab-df-convert');\n",
              "        buttonEl.style.display =\n",
              "          google.colab.kernel.accessAllowed ? 'block' : 'none';\n",
              "\n",
              "        async function convertToInteractive(key) {\n",
              "          const element = document.querySelector('#df-25f4eaa8-7871-4a10-a662-0a26b0787b21');\n",
              "          const dataTable =\n",
              "            await google.colab.kernel.invokeFunction('convertToInteractive',\n",
              "                                                     [key], {});\n",
              "          if (!dataTable) return;\n",
              "\n",
              "          const docLinkHtml = 'Like what you see? Visit the ' +\n",
              "            '<a target=\"_blank\" href=https://colab.research.google.com/notebooks/data_table.ipynb>data table notebook</a>'\n",
              "            + ' to learn more about interactive tables.';\n",
              "          element.innerHTML = '';\n",
              "          dataTable['output_type'] = 'display_data';\n",
              "          await google.colab.output.renderOutput(dataTable, element);\n",
              "          const docLink = document.createElement('div');\n",
              "          docLink.innerHTML = docLinkHtml;\n",
              "          element.appendChild(docLink);\n",
              "        }\n",
              "      </script>\n",
              "    </div>\n",
              "  </div>\n",
              "  "
            ]
          },
          "metadata": {},
          "execution_count": 22
        }
      ]
    },
    {
      "cell_type": "code",
      "source": [
        "mileages['Car Names'].count()"
      ],
      "metadata": {
        "colab": {
          "base_uri": "https://localhost:8080/"
        },
        "id": "w941RPX62mE3",
        "outputId": "a761b76e-d4a9-46df-b029-4da7423a26fd"
      },
      "execution_count": 23,
      "outputs": [
        {
          "output_type": "execute_result",
          "data": {
            "text/plain": [
              "5"
            ]
          },
          "metadata": {},
          "execution_count": 23
        }
      ]
    },
    {
      "cell_type": "markdown",
      "source": [
        "#  As we can see there are 5 value which give average value \n",
        "# Now we will find the min and maximum price of average Milage"
      ],
      "metadata": {
        "id": "fv6XtKvzRPR6"
      }
    },
    {
      "cell_type": "code",
      "source": [
        "print(f'The minimum price is', mileages['Price'].min() ,'with respect to Milage')\n",
        "print(f'The maximum price is', mileages['Price'].max(),'with respect to Milage')"
      ],
      "metadata": {
        "colab": {
          "base_uri": "https://localhost:8080/"
        },
        "id": "rc7ujhA48YIr",
        "outputId": "68185edd-6831-42a8-fcbf-066e48574999"
      },
      "execution_count": 24,
      "outputs": [
        {
          "output_type": "stream",
          "name": "stdout",
          "text": [
            "The minimum price is 6895 with respect to Milage\n",
            "The maximum price is 49035 with respect to Milage\n"
          ]
        }
      ]
    },
    {
      "cell_type": "markdown",
      "source": [
        "#                       **Conclusion**\n",
        "\n",
        "### 1. There are only 5 cars that have average milage \n",
        "### 2. The price of average's milage car is around 6000 to 49000 \n",
        "### 3. The rating is between 4.1 to 4.9 "
      ],
      "metadata": {
        "id": "wWRFWFvvWfu2"
      }
    },
    {
      "cell_type": "markdown",
      "source": [
        "## Now we will find the most occurring  price of the dataset "
      ],
      "metadata": {
        "id": "c75XLtS3f1TN"
      }
    },
    {
      "cell_type": "code",
      "source": [
        "print(df['Price'].mode())\n",
        "print(df['Ratings'].mode())"
      ],
      "metadata": {
        "colab": {
          "base_uri": "https://localhost:8080/"
        },
        "id": "9cct2SqcgOZE",
        "outputId": "a3c89a0e-183c-4cdb-8d4d-1973e173b9d3"
      },
      "execution_count": 25,
      "outputs": [
        {
          "output_type": "stream",
          "name": "stdout",
          "text": [
            "0    26995\n",
            "dtype: int64\n",
            "0    4.7\n",
            "dtype: float64\n"
          ]
        }
      ]
    },
    {
      "cell_type": "code",
      "source": [
        "price = df.loc[(df['Price']) == 26995]\n",
        "price "
      ],
      "metadata": {
        "id": "dz5dkeQOgf1a",
        "colab": {
          "base_uri": "https://localhost:8080/",
          "height": 424
        },
        "outputId": "4d3a2a07-1701-49f6-d660-5afdfa516440"
      },
      "execution_count": 26,
      "outputs": [
        {
          "output_type": "execute_result",
          "data": {
            "text/plain": [
              "                                     Car Names  Mileages  Ratings  Reviews  \\\n",
              "1091            2016 Audi A5 2.0T Premium Plus     41391      4.4      107   \n",
              "1120  2015 Mercedes-Benz M-Class ML 350 4MATIC     13694      4.5      749   \n",
              "1679                            2017 BMW 330 i     18257      4.5      811   \n",
              "2845                       2020 Ford Fusion SE     64731      4.4      795   \n",
              "3358         2015 Jeep Grand Cherokee Overland    119746      4.8       57   \n",
              "...                                        ...       ...      ...      ...   \n",
              "9091                  2016 Honda Pilot Touring     12813      4.5      272   \n",
              "9141                  2016 Honda Pilot Touring     12813      4.5      272   \n",
              "9191                  2016 Honda Pilot Touring     12813      4.5      272   \n",
              "9241                  2016 Honda Pilot Touring     12813      4.5      272   \n",
              "9291                  2016 Honda Pilot Touring     12813      4.5      272   \n",
              "\n",
              "     used/certified  price drop  Price  \n",
              "1091           Used         500  26995  \n",
              "1120           Used        2000  26995  \n",
              "1679           Used         300  26995  \n",
              "2845           Used         499  26995  \n",
              "3358           Used         980  26995  \n",
              "...             ...         ...    ...  \n",
              "9091           Used         299  26995  \n",
              "9141           Used         299  26995  \n",
              "9191           Used         299  26995  \n",
              "9241           Used         299  26995  \n",
              "9291           Used         299  26995  \n",
              "\n",
              "[107 rows x 7 columns]"
            ],
            "text/html": [
              "\n",
              "  <div id=\"df-468bb431-fd36-46ba-8c2c-b8589674e11c\">\n",
              "    <div class=\"colab-df-container\">\n",
              "      <div>\n",
              "<style scoped>\n",
              "    .dataframe tbody tr th:only-of-type {\n",
              "        vertical-align: middle;\n",
              "    }\n",
              "\n",
              "    .dataframe tbody tr th {\n",
              "        vertical-align: top;\n",
              "    }\n",
              "\n",
              "    .dataframe thead th {\n",
              "        text-align: right;\n",
              "    }\n",
              "</style>\n",
              "<table border=\"1\" class=\"dataframe\">\n",
              "  <thead>\n",
              "    <tr style=\"text-align: right;\">\n",
              "      <th></th>\n",
              "      <th>Car Names</th>\n",
              "      <th>Mileages</th>\n",
              "      <th>Ratings</th>\n",
              "      <th>Reviews</th>\n",
              "      <th>used/certified</th>\n",
              "      <th>price drop</th>\n",
              "      <th>Price</th>\n",
              "    </tr>\n",
              "  </thead>\n",
              "  <tbody>\n",
              "    <tr>\n",
              "      <th>1091</th>\n",
              "      <td>2016 Audi A5 2.0T Premium Plus</td>\n",
              "      <td>41391</td>\n",
              "      <td>4.4</td>\n",
              "      <td>107</td>\n",
              "      <td>Used</td>\n",
              "      <td>500</td>\n",
              "      <td>26995</td>\n",
              "    </tr>\n",
              "    <tr>\n",
              "      <th>1120</th>\n",
              "      <td>2015 Mercedes-Benz M-Class ML 350 4MATIC</td>\n",
              "      <td>13694</td>\n",
              "      <td>4.5</td>\n",
              "      <td>749</td>\n",
              "      <td>Used</td>\n",
              "      <td>2000</td>\n",
              "      <td>26995</td>\n",
              "    </tr>\n",
              "    <tr>\n",
              "      <th>1679</th>\n",
              "      <td>2017 BMW 330 i</td>\n",
              "      <td>18257</td>\n",
              "      <td>4.5</td>\n",
              "      <td>811</td>\n",
              "      <td>Used</td>\n",
              "      <td>300</td>\n",
              "      <td>26995</td>\n",
              "    </tr>\n",
              "    <tr>\n",
              "      <th>2845</th>\n",
              "      <td>2020 Ford Fusion SE</td>\n",
              "      <td>64731</td>\n",
              "      <td>4.4</td>\n",
              "      <td>795</td>\n",
              "      <td>Used</td>\n",
              "      <td>499</td>\n",
              "      <td>26995</td>\n",
              "    </tr>\n",
              "    <tr>\n",
              "      <th>3358</th>\n",
              "      <td>2015 Jeep Grand Cherokee Overland</td>\n",
              "      <td>119746</td>\n",
              "      <td>4.8</td>\n",
              "      <td>57</td>\n",
              "      <td>Used</td>\n",
              "      <td>980</td>\n",
              "      <td>26995</td>\n",
              "    </tr>\n",
              "    <tr>\n",
              "      <th>...</th>\n",
              "      <td>...</td>\n",
              "      <td>...</td>\n",
              "      <td>...</td>\n",
              "      <td>...</td>\n",
              "      <td>...</td>\n",
              "      <td>...</td>\n",
              "      <td>...</td>\n",
              "    </tr>\n",
              "    <tr>\n",
              "      <th>9091</th>\n",
              "      <td>2016 Honda Pilot Touring</td>\n",
              "      <td>12813</td>\n",
              "      <td>4.5</td>\n",
              "      <td>272</td>\n",
              "      <td>Used</td>\n",
              "      <td>299</td>\n",
              "      <td>26995</td>\n",
              "    </tr>\n",
              "    <tr>\n",
              "      <th>9141</th>\n",
              "      <td>2016 Honda Pilot Touring</td>\n",
              "      <td>12813</td>\n",
              "      <td>4.5</td>\n",
              "      <td>272</td>\n",
              "      <td>Used</td>\n",
              "      <td>299</td>\n",
              "      <td>26995</td>\n",
              "    </tr>\n",
              "    <tr>\n",
              "      <th>9191</th>\n",
              "      <td>2016 Honda Pilot Touring</td>\n",
              "      <td>12813</td>\n",
              "      <td>4.5</td>\n",
              "      <td>272</td>\n",
              "      <td>Used</td>\n",
              "      <td>299</td>\n",
              "      <td>26995</td>\n",
              "    </tr>\n",
              "    <tr>\n",
              "      <th>9241</th>\n",
              "      <td>2016 Honda Pilot Touring</td>\n",
              "      <td>12813</td>\n",
              "      <td>4.5</td>\n",
              "      <td>272</td>\n",
              "      <td>Used</td>\n",
              "      <td>299</td>\n",
              "      <td>26995</td>\n",
              "    </tr>\n",
              "    <tr>\n",
              "      <th>9291</th>\n",
              "      <td>2016 Honda Pilot Touring</td>\n",
              "      <td>12813</td>\n",
              "      <td>4.5</td>\n",
              "      <td>272</td>\n",
              "      <td>Used</td>\n",
              "      <td>299</td>\n",
              "      <td>26995</td>\n",
              "    </tr>\n",
              "  </tbody>\n",
              "</table>\n",
              "<p>107 rows × 7 columns</p>\n",
              "</div>\n",
              "      <button class=\"colab-df-convert\" onclick=\"convertToInteractive('df-468bb431-fd36-46ba-8c2c-b8589674e11c')\"\n",
              "              title=\"Convert this dataframe to an interactive table.\"\n",
              "              style=\"display:none;\">\n",
              "        \n",
              "  <svg xmlns=\"http://www.w3.org/2000/svg\" height=\"24px\"viewBox=\"0 0 24 24\"\n",
              "       width=\"24px\">\n",
              "    <path d=\"M0 0h24v24H0V0z\" fill=\"none\"/>\n",
              "    <path d=\"M18.56 5.44l.94 2.06.94-2.06 2.06-.94-2.06-.94-.94-2.06-.94 2.06-2.06.94zm-11 1L8.5 8.5l.94-2.06 2.06-.94-2.06-.94L8.5 2.5l-.94 2.06-2.06.94zm10 10l.94 2.06.94-2.06 2.06-.94-2.06-.94-.94-2.06-.94 2.06-2.06.94z\"/><path d=\"M17.41 7.96l-1.37-1.37c-.4-.4-.92-.59-1.43-.59-.52 0-1.04.2-1.43.59L10.3 9.45l-7.72 7.72c-.78.78-.78 2.05 0 2.83L4 21.41c.39.39.9.59 1.41.59.51 0 1.02-.2 1.41-.59l7.78-7.78 2.81-2.81c.8-.78.8-2.07 0-2.86zM5.41 20L4 18.59l7.72-7.72 1.47 1.35L5.41 20z\"/>\n",
              "  </svg>\n",
              "      </button>\n",
              "      \n",
              "  <style>\n",
              "    .colab-df-container {\n",
              "      display:flex;\n",
              "      flex-wrap:wrap;\n",
              "      gap: 12px;\n",
              "    }\n",
              "\n",
              "    .colab-df-convert {\n",
              "      background-color: #E8F0FE;\n",
              "      border: none;\n",
              "      border-radius: 50%;\n",
              "      cursor: pointer;\n",
              "      display: none;\n",
              "      fill: #1967D2;\n",
              "      height: 32px;\n",
              "      padding: 0 0 0 0;\n",
              "      width: 32px;\n",
              "    }\n",
              "\n",
              "    .colab-df-convert:hover {\n",
              "      background-color: #E2EBFA;\n",
              "      box-shadow: 0px 1px 2px rgba(60, 64, 67, 0.3), 0px 1px 3px 1px rgba(60, 64, 67, 0.15);\n",
              "      fill: #174EA6;\n",
              "    }\n",
              "\n",
              "    [theme=dark] .colab-df-convert {\n",
              "      background-color: #3B4455;\n",
              "      fill: #D2E3FC;\n",
              "    }\n",
              "\n",
              "    [theme=dark] .colab-df-convert:hover {\n",
              "      background-color: #434B5C;\n",
              "      box-shadow: 0px 1px 3px 1px rgba(0, 0, 0, 0.15);\n",
              "      filter: drop-shadow(0px 1px 2px rgba(0, 0, 0, 0.3));\n",
              "      fill: #FFFFFF;\n",
              "    }\n",
              "  </style>\n",
              "\n",
              "      <script>\n",
              "        const buttonEl =\n",
              "          document.querySelector('#df-468bb431-fd36-46ba-8c2c-b8589674e11c button.colab-df-convert');\n",
              "        buttonEl.style.display =\n",
              "          google.colab.kernel.accessAllowed ? 'block' : 'none';\n",
              "\n",
              "        async function convertToInteractive(key) {\n",
              "          const element = document.querySelector('#df-468bb431-fd36-46ba-8c2c-b8589674e11c');\n",
              "          const dataTable =\n",
              "            await google.colab.kernel.invokeFunction('convertToInteractive',\n",
              "                                                     [key], {});\n",
              "          if (!dataTable) return;\n",
              "\n",
              "          const docLinkHtml = 'Like what you see? Visit the ' +\n",
              "            '<a target=\"_blank\" href=https://colab.research.google.com/notebooks/data_table.ipynb>data table notebook</a>'\n",
              "            + ' to learn more about interactive tables.';\n",
              "          element.innerHTML = '';\n",
              "          dataTable['output_type'] = 'display_data';\n",
              "          await google.colab.output.renderOutput(dataTable, element);\n",
              "          const docLink = document.createElement('div');\n",
              "          docLink.innerHTML = docLinkHtml;\n",
              "          element.appendChild(docLink);\n",
              "        }\n",
              "      </script>\n",
              "    </div>\n",
              "  </div>\n",
              "  "
            ]
          },
          "metadata": {},
          "execution_count": 26
        }
      ]
    },
    {
      "cell_type": "code",
      "source": [
        "price['Car Names'].count()"
      ],
      "metadata": {
        "colab": {
          "base_uri": "https://localhost:8080/"
        },
        "id": "HvlfdTb-qazo",
        "outputId": "efb08248-798a-4d74-aebf-358cbeb5dbd2"
      },
      "execution_count": 47,
      "outputs": [
        {
          "output_type": "execute_result",
          "data": {
            "text/plain": [
              "107"
            ]
          },
          "metadata": {},
          "execution_count": 47
        }
      ]
    },
    {
      "cell_type": "markdown",
      "source": [
        "# Conclusion \n",
        "## There are total 107 car which have 26995 price "
      ],
      "metadata": {
        "id": "usWdAOyfqpet"
      }
    },
    {
      "cell_type": "code",
      "source": [
        "price.loc[(price['used/certified'] != 'Used')]"
      ],
      "metadata": {
        "id": "vJbbjPdChTSD",
        "colab": {
          "base_uri": "https://localhost:8080/",
          "height": 50
        },
        "outputId": "a3e54fb2-d5ae-456b-cbce-2f43d803c64b"
      },
      "execution_count": 27,
      "outputs": [
        {
          "output_type": "execute_result",
          "data": {
            "text/plain": [
              "Empty DataFrame\n",
              "Columns: [Car Names, Mileages, Ratings, Reviews, used/certified, price drop, Price]\n",
              "Index: []"
            ],
            "text/html": [
              "\n",
              "  <div id=\"df-c972e70f-1c87-4e7f-8229-d6b3d71ca2e2\">\n",
              "    <div class=\"colab-df-container\">\n",
              "      <div>\n",
              "<style scoped>\n",
              "    .dataframe tbody tr th:only-of-type {\n",
              "        vertical-align: middle;\n",
              "    }\n",
              "\n",
              "    .dataframe tbody tr th {\n",
              "        vertical-align: top;\n",
              "    }\n",
              "\n",
              "    .dataframe thead th {\n",
              "        text-align: right;\n",
              "    }\n",
              "</style>\n",
              "<table border=\"1\" class=\"dataframe\">\n",
              "  <thead>\n",
              "    <tr style=\"text-align: right;\">\n",
              "      <th></th>\n",
              "      <th>Car Names</th>\n",
              "      <th>Mileages</th>\n",
              "      <th>Ratings</th>\n",
              "      <th>Reviews</th>\n",
              "      <th>used/certified</th>\n",
              "      <th>price drop</th>\n",
              "      <th>Price</th>\n",
              "    </tr>\n",
              "  </thead>\n",
              "  <tbody>\n",
              "  </tbody>\n",
              "</table>\n",
              "</div>\n",
              "      <button class=\"colab-df-convert\" onclick=\"convertToInteractive('df-c972e70f-1c87-4e7f-8229-d6b3d71ca2e2')\"\n",
              "              title=\"Convert this dataframe to an interactive table.\"\n",
              "              style=\"display:none;\">\n",
              "        \n",
              "  <svg xmlns=\"http://www.w3.org/2000/svg\" height=\"24px\"viewBox=\"0 0 24 24\"\n",
              "       width=\"24px\">\n",
              "    <path d=\"M0 0h24v24H0V0z\" fill=\"none\"/>\n",
              "    <path d=\"M18.56 5.44l.94 2.06.94-2.06 2.06-.94-2.06-.94-.94-2.06-.94 2.06-2.06.94zm-11 1L8.5 8.5l.94-2.06 2.06-.94-2.06-.94L8.5 2.5l-.94 2.06-2.06.94zm10 10l.94 2.06.94-2.06 2.06-.94-2.06-.94-.94-2.06-.94 2.06-2.06.94z\"/><path d=\"M17.41 7.96l-1.37-1.37c-.4-.4-.92-.59-1.43-.59-.52 0-1.04.2-1.43.59L10.3 9.45l-7.72 7.72c-.78.78-.78 2.05 0 2.83L4 21.41c.39.39.9.59 1.41.59.51 0 1.02-.2 1.41-.59l7.78-7.78 2.81-2.81c.8-.78.8-2.07 0-2.86zM5.41 20L4 18.59l7.72-7.72 1.47 1.35L5.41 20z\"/>\n",
              "  </svg>\n",
              "      </button>\n",
              "      \n",
              "  <style>\n",
              "    .colab-df-container {\n",
              "      display:flex;\n",
              "      flex-wrap:wrap;\n",
              "      gap: 12px;\n",
              "    }\n",
              "\n",
              "    .colab-df-convert {\n",
              "      background-color: #E8F0FE;\n",
              "      border: none;\n",
              "      border-radius: 50%;\n",
              "      cursor: pointer;\n",
              "      display: none;\n",
              "      fill: #1967D2;\n",
              "      height: 32px;\n",
              "      padding: 0 0 0 0;\n",
              "      width: 32px;\n",
              "    }\n",
              "\n",
              "    .colab-df-convert:hover {\n",
              "      background-color: #E2EBFA;\n",
              "      box-shadow: 0px 1px 2px rgba(60, 64, 67, 0.3), 0px 1px 3px 1px rgba(60, 64, 67, 0.15);\n",
              "      fill: #174EA6;\n",
              "    }\n",
              "\n",
              "    [theme=dark] .colab-df-convert {\n",
              "      background-color: #3B4455;\n",
              "      fill: #D2E3FC;\n",
              "    }\n",
              "\n",
              "    [theme=dark] .colab-df-convert:hover {\n",
              "      background-color: #434B5C;\n",
              "      box-shadow: 0px 1px 3px 1px rgba(0, 0, 0, 0.15);\n",
              "      filter: drop-shadow(0px 1px 2px rgba(0, 0, 0, 0.3));\n",
              "      fill: #FFFFFF;\n",
              "    }\n",
              "  </style>\n",
              "\n",
              "      <script>\n",
              "        const buttonEl =\n",
              "          document.querySelector('#df-c972e70f-1c87-4e7f-8229-d6b3d71ca2e2 button.colab-df-convert');\n",
              "        buttonEl.style.display =\n",
              "          google.colab.kernel.accessAllowed ? 'block' : 'none';\n",
              "\n",
              "        async function convertToInteractive(key) {\n",
              "          const element = document.querySelector('#df-c972e70f-1c87-4e7f-8229-d6b3d71ca2e2');\n",
              "          const dataTable =\n",
              "            await google.colab.kernel.invokeFunction('convertToInteractive',\n",
              "                                                     [key], {});\n",
              "          if (!dataTable) return;\n",
              "\n",
              "          const docLinkHtml = 'Like what you see? Visit the ' +\n",
              "            '<a target=\"_blank\" href=https://colab.research.google.com/notebooks/data_table.ipynb>data table notebook</a>'\n",
              "            + ' to learn more about interactive tables.';\n",
              "          element.innerHTML = '';\n",
              "          dataTable['output_type'] = 'display_data';\n",
              "          await google.colab.output.renderOutput(dataTable, element);\n",
              "          const docLink = document.createElement('div');\n",
              "          docLink.innerHTML = docLinkHtml;\n",
              "          element.appendChild(docLink);\n",
              "        }\n",
              "      </script>\n",
              "    </div>\n",
              "  </div>\n",
              "  "
            ]
          },
          "metadata": {},
          "execution_count": 27
        }
      ]
    },
    {
      "cell_type": "code",
      "source": [
        "print(f'the min pirce of price 26995',price['price drop'].min())\n",
        "print(f'the max pirce of price 26995',price['price drop'].max())\n",
        "print(f'the average pirce of price 26995',price['price drop'].mean())"
      ],
      "metadata": {
        "id": "RGIcm418mzuG",
        "colab": {
          "base_uri": "https://localhost:8080/"
        },
        "outputId": "f56d4e08-5341-44fb-f1b6-d42fce28bf49"
      },
      "execution_count": 28,
      "outputs": [
        {
          "output_type": "stream",
          "name": "stdout",
          "text": [
            "the min pirce of price 26995 250\n",
            "the max pirce of price 26995 2000\n",
            "the average pirce of price 26995 324.5700934579439\n"
          ]
        }
      ]
    },
    {
      "cell_type": "markdown",
      "source": [
        "# Conclusion\n",
        "## 1.The most frequent price  is 2695  \n",
        "## 2.As per data all have used certificate non of them having different certificate \n",
        "## 3. The minimum price drop is 250 and maximum price drop is 2000\n",
        "## 4. The average price drop is around 325\n",
        "## 5. The most frequent rating is around 4.5 in price of 2659"
      ],
      "metadata": {
        "id": "VmsWJiEmjr7E"
      }
    },
    {
      "cell_type": "markdown",
      "source": [
        "# Now we will try to split the year the model of car so we can do further analyse on the year of the car model "
      ],
      "metadata": {
        "id": "F-xNXcrYH-mr"
      }
    },
    {
      "cell_type": "code",
      "source": [
        "year_df = df.copy()"
      ],
      "metadata": {
        "id": "1u9H8Xxcjgth"
      },
      "execution_count": 29,
      "outputs": []
    },
    {
      "cell_type": "code",
      "source": [
        "year_df[['year', 'Car Model']] = year_df['Car Names'].str.split(' ', n = 1, expand = True)"
      ],
      "metadata": {
        "id": "WbSE37Qg7-yS"
      },
      "execution_count": 30,
      "outputs": []
    },
    {
      "cell_type": "code",
      "source": [
        "year_df"
      ],
      "metadata": {
        "colab": {
          "base_uri": "https://localhost:8080/",
          "height": 424
        },
        "id": "xUMeF7pOiarS",
        "outputId": "a793616b-84c9-4b5f-84df-569759ab4350"
      },
      "execution_count": 31,
      "outputs": [
        {
          "output_type": "execute_result",
          "data": {
            "text/plain": [
              "                                 Car Names  Mileages  Ratings  Reviews  \\\n",
              "0                  2019 Honda Accord Sport         0      3.7        3   \n",
              "1     2015 Chevrolet Corvette Stingray Z51     29192      3.7        3   \n",
              "2        2020 Jeep Grand Cherokee Overland     53561      4.8     1147   \n",
              "3               2019 Audi A7 3.0T Prestige     46664      4.9     1831   \n",
              "4             2017 Ford Mustang GT Premium     21726      4.0      409   \n",
              "...                                    ...       ...      ...      ...   \n",
              "9325                2019 Lexus IS 300 Base     61106      4.7     4658   \n",
              "9326                    2019 Kia Sorento L     11132      4.8      505   \n",
              "9327                2017 GMC Acadia Denali     55074      3.4      127   \n",
              "9328                2019 Honda Pilot Elite     57150      4.9     8222   \n",
              "9329                  2019 GMC Terrain SLT     56293      4.8     1293   \n",
              "\n",
              "       used/certified  price drop  Price  year  \\\n",
              "0                Used         501  27995  2019   \n",
              "1                Used         277  52000  2015   \n",
              "2                Used        2000  41998  2020   \n",
              "3                Used        2090  62750  2019   \n",
              "4                Used         200  29995  2017   \n",
              "...               ...         ...    ...   ...   \n",
              "9325             Used        2770  36500  2019   \n",
              "9326             Used         200  23450  2019   \n",
              "9327             Used        2065  29381  2017   \n",
              "9328  Honda Certified        2007  38488  2019   \n",
              "9329             Used         561  27812  2019   \n",
              "\n",
              "                            Car Model  \n",
              "0                  Honda Accord Sport  \n",
              "1     Chevrolet Corvette Stingray Z51  \n",
              "2        Jeep Grand Cherokee Overland  \n",
              "3               Audi A7 3.0T Prestige  \n",
              "4             Ford Mustang GT Premium  \n",
              "...                               ...  \n",
              "9325                Lexus IS 300 Base  \n",
              "9326                    Kia Sorento L  \n",
              "9327                GMC Acadia Denali  \n",
              "9328                Honda Pilot Elite  \n",
              "9329                  GMC Terrain SLT  \n",
              "\n",
              "[9330 rows x 9 columns]"
            ],
            "text/html": [
              "\n",
              "  <div id=\"df-0d8c40c6-815a-4a71-b287-55a2d8888b86\">\n",
              "    <div class=\"colab-df-container\">\n",
              "      <div>\n",
              "<style scoped>\n",
              "    .dataframe tbody tr th:only-of-type {\n",
              "        vertical-align: middle;\n",
              "    }\n",
              "\n",
              "    .dataframe tbody tr th {\n",
              "        vertical-align: top;\n",
              "    }\n",
              "\n",
              "    .dataframe thead th {\n",
              "        text-align: right;\n",
              "    }\n",
              "</style>\n",
              "<table border=\"1\" class=\"dataframe\">\n",
              "  <thead>\n",
              "    <tr style=\"text-align: right;\">\n",
              "      <th></th>\n",
              "      <th>Car Names</th>\n",
              "      <th>Mileages</th>\n",
              "      <th>Ratings</th>\n",
              "      <th>Reviews</th>\n",
              "      <th>used/certified</th>\n",
              "      <th>price drop</th>\n",
              "      <th>Price</th>\n",
              "      <th>year</th>\n",
              "      <th>Car Model</th>\n",
              "    </tr>\n",
              "  </thead>\n",
              "  <tbody>\n",
              "    <tr>\n",
              "      <th>0</th>\n",
              "      <td>2019 Honda Accord Sport</td>\n",
              "      <td>0</td>\n",
              "      <td>3.7</td>\n",
              "      <td>3</td>\n",
              "      <td>Used</td>\n",
              "      <td>501</td>\n",
              "      <td>27995</td>\n",
              "      <td>2019</td>\n",
              "      <td>Honda Accord Sport</td>\n",
              "    </tr>\n",
              "    <tr>\n",
              "      <th>1</th>\n",
              "      <td>2015 Chevrolet Corvette Stingray Z51</td>\n",
              "      <td>29192</td>\n",
              "      <td>3.7</td>\n",
              "      <td>3</td>\n",
              "      <td>Used</td>\n",
              "      <td>277</td>\n",
              "      <td>52000</td>\n",
              "      <td>2015</td>\n",
              "      <td>Chevrolet Corvette Stingray Z51</td>\n",
              "    </tr>\n",
              "    <tr>\n",
              "      <th>2</th>\n",
              "      <td>2020 Jeep Grand Cherokee Overland</td>\n",
              "      <td>53561</td>\n",
              "      <td>4.8</td>\n",
              "      <td>1147</td>\n",
              "      <td>Used</td>\n",
              "      <td>2000</td>\n",
              "      <td>41998</td>\n",
              "      <td>2020</td>\n",
              "      <td>Jeep Grand Cherokee Overland</td>\n",
              "    </tr>\n",
              "    <tr>\n",
              "      <th>3</th>\n",
              "      <td>2019 Audi A7 3.0T Prestige</td>\n",
              "      <td>46664</td>\n",
              "      <td>4.9</td>\n",
              "      <td>1831</td>\n",
              "      <td>Used</td>\n",
              "      <td>2090</td>\n",
              "      <td>62750</td>\n",
              "      <td>2019</td>\n",
              "      <td>Audi A7 3.0T Prestige</td>\n",
              "    </tr>\n",
              "    <tr>\n",
              "      <th>4</th>\n",
              "      <td>2017 Ford Mustang GT Premium</td>\n",
              "      <td>21726</td>\n",
              "      <td>4.0</td>\n",
              "      <td>409</td>\n",
              "      <td>Used</td>\n",
              "      <td>200</td>\n",
              "      <td>29995</td>\n",
              "      <td>2017</td>\n",
              "      <td>Ford Mustang GT Premium</td>\n",
              "    </tr>\n",
              "    <tr>\n",
              "      <th>...</th>\n",
              "      <td>...</td>\n",
              "      <td>...</td>\n",
              "      <td>...</td>\n",
              "      <td>...</td>\n",
              "      <td>...</td>\n",
              "      <td>...</td>\n",
              "      <td>...</td>\n",
              "      <td>...</td>\n",
              "      <td>...</td>\n",
              "    </tr>\n",
              "    <tr>\n",
              "      <th>9325</th>\n",
              "      <td>2019 Lexus IS 300 Base</td>\n",
              "      <td>61106</td>\n",
              "      <td>4.7</td>\n",
              "      <td>4658</td>\n",
              "      <td>Used</td>\n",
              "      <td>2770</td>\n",
              "      <td>36500</td>\n",
              "      <td>2019</td>\n",
              "      <td>Lexus IS 300 Base</td>\n",
              "    </tr>\n",
              "    <tr>\n",
              "      <th>9326</th>\n",
              "      <td>2019 Kia Sorento L</td>\n",
              "      <td>11132</td>\n",
              "      <td>4.8</td>\n",
              "      <td>505</td>\n",
              "      <td>Used</td>\n",
              "      <td>200</td>\n",
              "      <td>23450</td>\n",
              "      <td>2019</td>\n",
              "      <td>Kia Sorento L</td>\n",
              "    </tr>\n",
              "    <tr>\n",
              "      <th>9327</th>\n",
              "      <td>2017 GMC Acadia Denali</td>\n",
              "      <td>55074</td>\n",
              "      <td>3.4</td>\n",
              "      <td>127</td>\n",
              "      <td>Used</td>\n",
              "      <td>2065</td>\n",
              "      <td>29381</td>\n",
              "      <td>2017</td>\n",
              "      <td>GMC Acadia Denali</td>\n",
              "    </tr>\n",
              "    <tr>\n",
              "      <th>9328</th>\n",
              "      <td>2019 Honda Pilot Elite</td>\n",
              "      <td>57150</td>\n",
              "      <td>4.9</td>\n",
              "      <td>8222</td>\n",
              "      <td>Honda Certified</td>\n",
              "      <td>2007</td>\n",
              "      <td>38488</td>\n",
              "      <td>2019</td>\n",
              "      <td>Honda Pilot Elite</td>\n",
              "    </tr>\n",
              "    <tr>\n",
              "      <th>9329</th>\n",
              "      <td>2019 GMC Terrain SLT</td>\n",
              "      <td>56293</td>\n",
              "      <td>4.8</td>\n",
              "      <td>1293</td>\n",
              "      <td>Used</td>\n",
              "      <td>561</td>\n",
              "      <td>27812</td>\n",
              "      <td>2019</td>\n",
              "      <td>GMC Terrain SLT</td>\n",
              "    </tr>\n",
              "  </tbody>\n",
              "</table>\n",
              "<p>9330 rows × 9 columns</p>\n",
              "</div>\n",
              "      <button class=\"colab-df-convert\" onclick=\"convertToInteractive('df-0d8c40c6-815a-4a71-b287-55a2d8888b86')\"\n",
              "              title=\"Convert this dataframe to an interactive table.\"\n",
              "              style=\"display:none;\">\n",
              "        \n",
              "  <svg xmlns=\"http://www.w3.org/2000/svg\" height=\"24px\"viewBox=\"0 0 24 24\"\n",
              "       width=\"24px\">\n",
              "    <path d=\"M0 0h24v24H0V0z\" fill=\"none\"/>\n",
              "    <path d=\"M18.56 5.44l.94 2.06.94-2.06 2.06-.94-2.06-.94-.94-2.06-.94 2.06-2.06.94zm-11 1L8.5 8.5l.94-2.06 2.06-.94-2.06-.94L8.5 2.5l-.94 2.06-2.06.94zm10 10l.94 2.06.94-2.06 2.06-.94-2.06-.94-.94-2.06-.94 2.06-2.06.94z\"/><path d=\"M17.41 7.96l-1.37-1.37c-.4-.4-.92-.59-1.43-.59-.52 0-1.04.2-1.43.59L10.3 9.45l-7.72 7.72c-.78.78-.78 2.05 0 2.83L4 21.41c.39.39.9.59 1.41.59.51 0 1.02-.2 1.41-.59l7.78-7.78 2.81-2.81c.8-.78.8-2.07 0-2.86zM5.41 20L4 18.59l7.72-7.72 1.47 1.35L5.41 20z\"/>\n",
              "  </svg>\n",
              "      </button>\n",
              "      \n",
              "  <style>\n",
              "    .colab-df-container {\n",
              "      display:flex;\n",
              "      flex-wrap:wrap;\n",
              "      gap: 12px;\n",
              "    }\n",
              "\n",
              "    .colab-df-convert {\n",
              "      background-color: #E8F0FE;\n",
              "      border: none;\n",
              "      border-radius: 50%;\n",
              "      cursor: pointer;\n",
              "      display: none;\n",
              "      fill: #1967D2;\n",
              "      height: 32px;\n",
              "      padding: 0 0 0 0;\n",
              "      width: 32px;\n",
              "    }\n",
              "\n",
              "    .colab-df-convert:hover {\n",
              "      background-color: #E2EBFA;\n",
              "      box-shadow: 0px 1px 2px rgba(60, 64, 67, 0.3), 0px 1px 3px 1px rgba(60, 64, 67, 0.15);\n",
              "      fill: #174EA6;\n",
              "    }\n",
              "\n",
              "    [theme=dark] .colab-df-convert {\n",
              "      background-color: #3B4455;\n",
              "      fill: #D2E3FC;\n",
              "    }\n",
              "\n",
              "    [theme=dark] .colab-df-convert:hover {\n",
              "      background-color: #434B5C;\n",
              "      box-shadow: 0px 1px 3px 1px rgba(0, 0, 0, 0.15);\n",
              "      filter: drop-shadow(0px 1px 2px rgba(0, 0, 0, 0.3));\n",
              "      fill: #FFFFFF;\n",
              "    }\n",
              "  </style>\n",
              "\n",
              "      <script>\n",
              "        const buttonEl =\n",
              "          document.querySelector('#df-0d8c40c6-815a-4a71-b287-55a2d8888b86 button.colab-df-convert');\n",
              "        buttonEl.style.display =\n",
              "          google.colab.kernel.accessAllowed ? 'block' : 'none';\n",
              "\n",
              "        async function convertToInteractive(key) {\n",
              "          const element = document.querySelector('#df-0d8c40c6-815a-4a71-b287-55a2d8888b86');\n",
              "          const dataTable =\n",
              "            await google.colab.kernel.invokeFunction('convertToInteractive',\n",
              "                                                     [key], {});\n",
              "          if (!dataTable) return;\n",
              "\n",
              "          const docLinkHtml = 'Like what you see? Visit the ' +\n",
              "            '<a target=\"_blank\" href=https://colab.research.google.com/notebooks/data_table.ipynb>data table notebook</a>'\n",
              "            + ' to learn more about interactive tables.';\n",
              "          element.innerHTML = '';\n",
              "          dataTable['output_type'] = 'display_data';\n",
              "          await google.colab.output.renderOutput(dataTable, element);\n",
              "          const docLink = document.createElement('div');\n",
              "          docLink.innerHTML = docLinkHtml;\n",
              "          element.appendChild(docLink);\n",
              "        }\n",
              "      </script>\n",
              "    </div>\n",
              "  </div>\n",
              "  "
            ]
          },
          "metadata": {},
          "execution_count": 31
        }
      ]
    },
    {
      "cell_type": "code",
      "source": [
        "year_df['year'].unique()"
      ],
      "metadata": {
        "colab": {
          "base_uri": "https://localhost:8080/"
        },
        "id": "UV0iunKU94yl",
        "outputId": "d606b916-71c3-4661-e4f6-18ffbd60d5ea"
      },
      "execution_count": 32,
      "outputs": [
        {
          "output_type": "execute_result",
          "data": {
            "text/plain": [
              "array(['2019', '2015', '2020', '2017', '2016', '2018', '2021', '2022',\n",
              "       '2013', '2011', '2014', '2012', '2010', '2003', '2004', '2008',\n",
              "       '2009', '2006', '2007', '2002', '1997', '2000', '2005'],\n",
              "      dtype=object)"
            ]
          },
          "metadata": {},
          "execution_count": 32
        }
      ]
    },
    {
      "cell_type": "code",
      "source": [
        "year_index = year_df.year.value_counts().index\n",
        "year_value = year_df.year.value_counts().values"
      ],
      "metadata": {
        "id": "CfxirtON9-D3"
      },
      "execution_count": 33,
      "outputs": []
    },
    {
      "cell_type": "code",
      "source": [
        "year_index_top = year_index[:5]\n",
        "year_value_top = year_value[:5]"
      ],
      "metadata": {
        "id": "A39n0rdzo-yy"
      },
      "execution_count": 34,
      "outputs": []
    },
    {
      "cell_type": "code",
      "source": [
        "explode = [0.1,0.1,0,0,0]\n",
        "textprops = {\"fontsize\":15}\n",
        "plt.rcParams['figure.figsize'] = (18,9)\n",
        "plt.pie(year_value_top, labels = year_index_top, shadow = True, autopct='%1.2f%%', startangle=130\n",
        "        ,labeldistance=1.1,explode = explode,textprops = textprops)\n",
        "plt.axis('equal')\n",
        "plt.show()"
      ],
      "metadata": {
        "id": "qL-5jiaDl6mx",
        "colab": {
          "base_uri": "https://localhost:8080/",
          "height": 520
        },
        "outputId": "30a44cd7-ff74-4ae0-b277-864e35c301ad"
      },
      "execution_count": 35,
      "outputs": [
        {
          "output_type": "display_data",
          "data": {
            "text/plain": [
              "<Figure size 1296x648 with 1 Axes>"
            ],
            "image/png": "[encoded data removed]"
          },
          "metadata": {}
        }
      ]
    },
    {
      "cell_type": "markdown",
      "source": [
        "# Conclusion \n",
        "# Top 5 model with repeact of there year as per the data \n",
        "\n",
        "## 1. As per the data the most model in our dataset is of 2019 year model whic\n",
        "## 2. As per data 2021 is on 2nd number with the percentage of 22.84\n",
        "## 3. On 3rd number we have 2020 model car with 20.2%"
      ],
      "metadata": {
        "id": "7IPGL3pfuzq7"
      }
    },
    {
      "cell_type": "code",
      "source": [
        "model_index = year_df['used/certified'].value_counts().index[:3]\n",
        "model_value = year_df['used/certified'].value_counts().values[:3]"
      ],
      "metadata": {
        "id": "bOJnMrQwmurx"
      },
      "execution_count": 36,
      "outputs": []
    },
    {
      "cell_type": "code",
      "source": [
        "textprops = {\"fontsize\":15}\n",
        "plt.rcParams['figure.figsize'] = (18,9)\n",
        "plt.pie(model_value, labels = model_index, shadow = True, autopct='%1.2f%%', startangle=130\n",
        "        ,labeldistance=1.1,textprops = textprops)\n",
        "plt.axis('equal')\n",
        "plt.title('Top 3 used/certified certificates', loc = 'left')\n",
        "plt.show() "
      ],
      "metadata": {
        "colab": {
          "base_uri": "https://localhost:8080/",
          "height": 536
        },
        "id": "Ovfo-2_knTis",
        "outputId": "7a0cc268-6c8a-4c93-fc8b-d4f221963588"
      },
      "execution_count": 37,
      "outputs": [
        {
          "output_type": "display_data",
          "data": {
            "text/plain": [
              "<Figure size 1296x648 with 1 Axes>"
            ],
            "image/png": "[encoded data removed]"
          },
          "metadata": {}
        }
      ]
    },
    {
      "cell_type": "markdown",
      "source": [
        "# Conclusion \n",
        "# Top 3  used/certified data \n",
        "\n",
        "## As per the data we have 94.99% used certified car \n",
        "## And on 2 and 3 position we have  BMW certified and Honda certified with repect of 2.55% and 2.45%\n",
        "\n",
        "  \n"
      ],
      "metadata": {
        "id": "nESLupJJ02SO"
      }
    },
    {
      "cell_type": "markdown",
      "source": [
        "## Now we will remove the used certified car data and look and the other certified cars"
      ],
      "metadata": {
        "id": "Z-jYVJyJj31R"
      }
    },
    {
      "cell_type": "code",
      "source": [
        "other_certified = year_df[year_df != 'Used']"
      ],
      "metadata": {
        "id": "fwRZT3--y8Al"
      },
      "execution_count": 38,
      "outputs": []
    },
    {
      "cell_type": "code",
      "source": [
        "other_certified_index = other_certified['used/certified'].value_counts().index[:10]\n",
        "other_certified_value = other_certified['used/certified'].value_counts().values[:10]"
      ],
      "metadata": {
        "id": "IP045Uc619aZ"
      },
      "execution_count": 39,
      "outputs": []
    },
    {
      "cell_type": "code",
      "source": [
        "explode = [0.1,0.1,0.1,0,0,0,0,0,0,0]\n",
        "textprops = {\"fontsize\":15}\n",
        "plt.rcParams['figure.figsize'] = (18,9)\n",
        "plt.pie(other_certified_value, labels = other_certified_index, shadow = True, autopct='%1.2f%%', startangle=130\n",
        "        ,labeldistance=1.1,textprops = textprops,explode = explode)\n",
        "plt.title('Top 10 other certified certificates', loc = 'left')\n",
        "plt.axis('equal')\n",
        "plt.show()"
      ],
      "metadata": {
        "colab": {
          "base_uri": "https://localhost:8080/",
          "height": 541
        },
        "id": "2PliJn6o2XLt",
        "outputId": "74a99fb2-aafb-4bbb-b84c-eec41c16ca46"
      },
      "execution_count": 40,
      "outputs": [
        {
          "output_type": "display_data",
          "data": {
            "text/plain": [
              "<Figure size 1296x648 with 1 Axes>"
            ],
            "image/png": "[encoded data removed]"
          },
          "metadata": {}
        }
      ]
    },
    {
      "cell_type": "markdown",
      "source": [
        "# Conclusion \n",
        "# Top 10 other certified cars are \n",
        "## BMW with 23.89% and Honda 15.7% and Mercedes-Benz with 14.48% with respect to 1st,2nd,3rd position  \n",
        "## On 4th position we have Ford with 10.22%\n",
        "## On 5th position we have Cadillac with 10.15%\n",
        "## Sabaru and Kia are at same position with 8.73%\n",
        "## Infinite,Tokyo and Volvo is on 8th ,9th and 10th position with 8.51%,5.90%, and 2.54%  \n"
      ],
      "metadata": {
        "id": "wKR0oqYx32EC"
      }
    },
    {
      "cell_type": "markdown",
      "source": [
        "# Now we will try to know rating on the bases of  certificate"
      ],
      "metadata": {
        "id": "alU-9CDSD-vz"
      }
    },
    {
      "cell_type": "code",
      "source": [
        "used_rating = df[['Ratings','used/certified']].loc[(df['used/certified'] == 'Used')]\n",
        "plt.grid()\n",
        "ax = sns.countplot(x = 'Ratings', data = used_rating)\n",
        "ax.set_title('Used certified rating', fontsize=18, color='black')"
      ],
      "metadata": {
        "colab": {
          "base_uri": "https://localhost:8080/",
          "height": 588
        },
        "id": "mfi4YdXZ3an6",
        "outputId": "e4a07cf2-951b-4ca4-e752-3402de7fc3bc"
      },
      "execution_count": 53,
      "outputs": [
        {
          "output_type": "execute_result",
          "data": {
            "text/plain": [
              "Text(0.5, 1.0, 'Used certified rating')"
            ]
          },
          "metadata": {},
          "execution_count": 53
        },
        {
          "output_type": "display_data",
          "data": {
            "text/plain": [
              "<Figure size 1296x648 with 1 Axes>"
            ],
            "image/png": "[encoded data removed]"
          },
          "metadata": {
            "needs_background": "light"
          }
        }
      ]
    },
    {
      "cell_type": "markdown",
      "source": [
        "# Observation\n",
        "# Top 3 Rating on used certificate \n",
        "\n",
        "## The most rating of used certificate is 4.7\n",
        "## On the second positon we have 4.8 rating \n",
        "## On the Third position we have 4.5"
      ],
      "metadata": {
        "id": "EiBD-QuheBaq"
      }
    },
    {
      "cell_type": "code",
      "source": [
        "Honda_certified = df[['Ratings','used/certified']].loc[(df['used/certified'] == 'Honda Certified')]\n",
        "plt.grid()\n",
        "ax = sns.countplot(x = 'Ratings', data = Honda_certified)\n",
        "ax.set_title('Honda certified rating', fontsize=18, color='black')"
      ],
      "metadata": {
        "colab": {
          "base_uri": "https://localhost:8080/",
          "height": 588
        },
        "id": "sE3Bk0dP_Qxq",
        "outputId": "e6691c8c-ada3-4ef9-e4f0-3a71b217f660"
      },
      "execution_count": 51,
      "outputs": [
        {
          "output_type": "execute_result",
          "data": {
            "text/plain": [
              "Text(0.5, 1.0, 'Honda certified rating')"
            ]
          },
          "metadata": {},
          "execution_count": 51
        },
        {
          "output_type": "display_data",
          "data": {
            "text/plain": [
              "<Figure size 1296x648 with 1 Axes>"
            ],
            "image/png": "[encoded data removed]"
          },
          "metadata": {
            "needs_background": "light"
          }
        }
      ]
    },
    {
      "cell_type": "markdown",
      "source": [
        "# Observation \n",
        "# Top 3 Rating on Honda Certificate \n",
        "## 4.9 Rating is most rated points in Honda Certificate \n",
        "## ON the second and third postion we have 4.7 and 4.8"
      ],
      "metadata": {
        "id": "qCNHinCBfAto"
      }
    },
    {
      "cell_type": "code",
      "source": [
        "BMW_rating = df[['Ratings','used/certified']].loc[(df['used/certified'] == 'BMW Certified')]\n",
        "plt.grid()\n",
        "ax = sns.countplot(x = 'Ratings', data = BMW_rating)\n",
        "ax.set_title('BMW certified rating', fontsize=18, color='black')"
      ],
      "metadata": {
        "colab": {
          "base_uri": "https://localhost:8080/",
          "height": 588
        },
        "id": "MpcyU6qeZXni",
        "outputId": "17fe4207-7b7c-4753-e2ad-39665854994b"
      },
      "execution_count": 54,
      "outputs": [
        {
          "output_type": "execute_result",
          "data": {
            "text/plain": [
              "Text(0.5, 1.0, 'BMW certified rating')"
            ]
          },
          "metadata": {},
          "execution_count": 54
        },
        {
          "output_type": "display_data",
          "data": {
            "text/plain": [
              "<Figure size 1296x648 with 1 Axes>"
            ],
            "image/png": "[encoded data removed]"
          },
          "metadata": {
            "needs_background": "light"
          }
        }
      ]
    },
    {
      "cell_type": "markdown",
      "source": [
        "# Observation \n",
        "# Top 3 Rating on BMW Certificate\n",
        "## On First position we have 4.6 rating \n",
        "## on Second postion we have 4.5, 4.7, 4.8\n",
        "## on Third postion we have 4.4 rating "
      ],
      "metadata": {
        "id": "wvQAP6RofnnW"
      }
    },
    {
      "cell_type": "code",
      "source": [
        "Mercedes_rating = df[['Ratings','used/certified']].loc[(df['used/certified'] == 'Mercedes-Benz Certified')]\n",
        "plt.grid()\n",
        "ax = sns.countplot(x = 'Ratings', data = Mercedes_rating)\n",
        "ax.set_title('Mercedes certified rating', fontsize=18, color='black')"
      ],
      "metadata": {
        "colab": {
          "base_uri": "https://localhost:8080/",
          "height": 588
        },
        "id": "6-cerhgrZ_TB",
        "outputId": "493b1956-ad74-4fad-becd-a7f8e19d247e"
      },
      "execution_count": 55,
      "outputs": [
        {
          "output_type": "execute_result",
          "data": {
            "text/plain": [
              "Text(0.5, 1.0, 'Mercedes certified rating')"
            ]
          },
          "metadata": {},
          "execution_count": 55
        },
        {
          "output_type": "display_data",
          "data": {
            "text/plain": [
              "<Figure size 1296x648 with 1 Axes>"
            ],
            "image/png": "[encoded data removed]"
          },
          "metadata": {
            "needs_background": "light"
          }
        }
      ]
    },
    {
      "cell_type": "markdown",
      "source": [
        "# Observation \n",
        "# Top 3 Rating on Mercedies Certificate\n",
        "## On First position we have 4.8 rating \n",
        "## on Second postion we have 4.7\n",
        "## on Third postion we have 4.6 rating"
      ],
      "metadata": {
        "id": "yeLNJGY7ga16"
      }
    },
    {
      "cell_type": "code",
      "source": [
        "Ford_rating = df[['Ratings','used/certified']].loc[(df['used/certified'] == 'Ford Certified')]\n",
        "plt.grid()\n",
        "ax = sns.countplot(x = 'Ratings', data = Ford_rating)\n",
        "ax.set_title('Ford certified rating', fontsize=18, color='black')"
      ],
      "metadata": {
        "colab": {
          "base_uri": "https://localhost:8080/",
          "height": 588
        },
        "id": "EOqD1pXQaRYA",
        "outputId": "a0bdfe98-de97-4890-a39b-8374d3578205"
      },
      "execution_count": 56,
      "outputs": [
        {
          "output_type": "execute_result",
          "data": {
            "text/plain": [
              "Text(0.5, 1.0, 'Ford certified rating')"
            ]
          },
          "metadata": {},
          "execution_count": 56
        },
        {
          "output_type": "display_data",
          "data": {
            "text/plain": [
              "<Figure size 1296x648 with 1 Axes>"
            ],
            "image/png": "[encoded data removed]"
          },
          "metadata": {
            "needs_background": "light"
          }
        }
      ]
    },
    {
      "cell_type": "markdown",
      "source": [
        "# Observation \n",
        "# Top 3 Rating on Ford Certificate\n",
        "## On First position we have 4.9 rating which has more than 100 count  \n",
        "## On Second position we have 4.8 rating \n",
        "## On Third position we have 4.7 rating "
      ],
      "metadata": {
        "id": "2ITjmIahgyUM"
      }
    },
    {
      "cell_type": "code",
      "source": [],
      "metadata": {
        "id": "HwieNbaTKBsD"
      },
      "execution_count": 45,
      "outputs": []
    }
  ]
}